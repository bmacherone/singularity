{
 "cells": [
  {
   "cell_type": "markdown",
   "metadata": {},
   "source": [
    "# MultiPolygons\n",
    "\n",
    "The MultiPolygons glyphs is modeled closely on the [GeoJSON spec](https://tools.ietf.org/html/rfc7946#section-3.1.6) for `Polygon` and `MultiPolygon`. The data that are used to construct `MultiPolygons` are nested 3 deep. In the top level of nesting, each item in the list represents a `MultiPolygon` - an entity like a state or a contour level. Each `MultiPolygon` is composed of `Polygons` representing different parts of the `MultiPolygon`. Each `Polygon` contains a list of coordinates representing the exterior bounds of the `Polygon` followed by lists of coordinates of any holes contained within the `Polygon`. \n"
   ]
  },
  {
   "cell_type": "markdown",
   "metadata": {},
   "source": [
    "## Polygon with no holes\n",
    "\n",
    "We'll start with one square with bottom left corner at (1, 3) and top right corner at (2, 4). The simple case of one `Polygon` with no holes is represented in geojson as follows:\n",
    "\n",
    "```geojson\n",
    " {\n",
    "     \"type\": \"Polygon\",\n",
    "     \"coordinates\": [\n",
    "         [\n",
    "             [1, 3],\n",
    "             [2, 3],\n",
    "             [2, 4],\n",
    "             [1, 4],\n",
    "             [1, 3]\n",
    "         ]\n",
    "     ]\n",
    " }\n",
    "```\n",
    "\n",
    "In geojson this list of coordinates is nested 1 deep to allow for passing lists of holes within the polygon. In `bokeh` (using `MultiPolygon`) the coordinates for this same polygon will be nested 3 deep to allow space for other entities and for other parts of the `MultiPolygon`. "
   ]
  },
  {
   "cell_type": "code",
   "execution_count": 1,
   "metadata": {},
   "outputs": [
    {
     "data": {
      "text/html": [
       "\n",
       "    <div class=\"bk-root\">\n",
       "        <a href=\"https://bokeh.pydata.org\" target=\"_blank\" class=\"bk-logo bk-logo-small bk-logo-notebook\"></a>\n",
       "        <span id=\"1001\">Loading BokehJS ...</span>\n",
       "    </div>"
      ]
     },
     "metadata": {},
     "output_type": "display_data"
    },
    {
     "data": {
      "application/javascript": [
       "\n",
       "(function(root) {\n",
       "  function now() {\n",
       "    return new Date();\n",
       "  }\n",
       "\n",
       "  var force = true;\n",
       "\n",
       "  if (typeof (root._bokeh_onload_callbacks) === \"undefined\" || force === true) {\n",
       "    root._bokeh_onload_callbacks = [];\n",
       "    root._bokeh_is_loading = undefined;\n",
       "  }\n",
       "\n",
       "  var JS_MIME_TYPE = 'application/javascript';\n",
       "  var HTML_MIME_TYPE = 'text/html';\n",
       "  var EXEC_MIME_TYPE = 'application/vnd.bokehjs_exec.v0+json';\n",
       "  var CLASS_NAME = 'output_bokeh rendered_html';\n",
       "\n",
       "  /**\n",
       "   * Render data to the DOM node\n",
       "   */\n",
       "  function render(props, node) {\n",
       "    var script = document.createElement(\"script\");\n",
       "    node.appendChild(script);\n",
       "  }\n",
       "\n",
       "  /**\n",
       "   * Handle when an output is cleared or removed\n",
       "   */\n",
       "  function handleClearOutput(event, handle) {\n",
       "    var cell = handle.cell;\n",
       "\n",
       "    var id = cell.output_area._bokeh_element_id;\n",
       "    var server_id = cell.output_area._bokeh_server_id;\n",
       "    // Clean up Bokeh references\n",
       "    if (id != null && id in Bokeh.index) {\n",
       "      Bokeh.index[id].model.document.clear();\n",
       "      delete Bokeh.index[id];\n",
       "    }\n",
       "\n",
       "    if (server_id !== undefined) {\n",
       "      // Clean up Bokeh references\n",
       "      var cmd = \"from bokeh.io.state import curstate; print(curstate().uuid_to_server['\" + server_id + \"'].get_sessions()[0].document.roots[0]._id)\";\n",
       "      cell.notebook.kernel.execute(cmd, {\n",
       "        iopub: {\n",
       "          output: function(msg) {\n",
       "            var id = msg.content.text.trim();\n",
       "            if (id in Bokeh.index) {\n",
       "              Bokeh.index[id].model.document.clear();\n",
       "              delete Bokeh.index[id];\n",
       "            }\n",
       "          }\n",
       "        }\n",
       "      });\n",
       "      // Destroy server and session\n",
       "      var cmd = \"import bokeh.io.notebook as ion; ion.destroy_server('\" + server_id + \"')\";\n",
       "      cell.notebook.kernel.execute(cmd);\n",
       "    }\n",
       "  }\n",
       "\n",
       "  /**\n",
       "   * Handle when a new output is added\n",
       "   */\n",
       "  function handleAddOutput(event, handle) {\n",
       "    var output_area = handle.output_area;\n",
       "    var output = handle.output;\n",
       "\n",
       "    // limit handleAddOutput to display_data with EXEC_MIME_TYPE content only\n",
       "    if ((output.output_type != \"display_data\") || (!output.data.hasOwnProperty(EXEC_MIME_TYPE))) {\n",
       "      return\n",
       "    }\n",
       "\n",
       "    var toinsert = output_area.element.find(\".\" + CLASS_NAME.split(' ')[0]);\n",
       "\n",
       "    if (output.metadata[EXEC_MIME_TYPE][\"id\"] !== undefined) {\n",
       "      toinsert[toinsert.length - 1].firstChild.textContent = output.data[JS_MIME_TYPE];\n",
       "      // store reference to embed id on output_area\n",
       "      output_area._bokeh_element_id = output.metadata[EXEC_MIME_TYPE][\"id\"];\n",
       "    }\n",
       "    if (output.metadata[EXEC_MIME_TYPE][\"server_id\"] !== undefined) {\n",
       "      var bk_div = document.createElement(\"div\");\n",
       "      bk_div.innerHTML = output.data[HTML_MIME_TYPE];\n",
       "      var script_attrs = bk_div.children[0].attributes;\n",
       "      for (var i = 0; i < script_attrs.length; i++) {\n",
       "        toinsert[toinsert.length - 1].firstChild.setAttribute(script_attrs[i].name, script_attrs[i].value);\n",
       "      }\n",
       "      // store reference to server id on output_area\n",
       "      output_area._bokeh_server_id = output.metadata[EXEC_MIME_TYPE][\"server_id\"];\n",
       "    }\n",
       "  }\n",
       "\n",
       "  function register_renderer(events, OutputArea) {\n",
       "\n",
       "    function append_mime(data, metadata, element) {\n",
       "      // create a DOM node to render to\n",
       "      var toinsert = this.create_output_subarea(\n",
       "        metadata,\n",
       "        CLASS_NAME,\n",
       "        EXEC_MIME_TYPE\n",
       "      );\n",
       "      this.keyboard_manager.register_events(toinsert);\n",
       "      // Render to node\n",
       "      var props = {data: data, metadata: metadata[EXEC_MIME_TYPE]};\n",
       "      render(props, toinsert[toinsert.length - 1]);\n",
       "      element.append(toinsert);\n",
       "      return toinsert\n",
       "    }\n",
       "\n",
       "    /* Handle when an output is cleared or removed */\n",
       "    events.on('clear_output.CodeCell', handleClearOutput);\n",
       "    events.on('delete.Cell', handleClearOutput);\n",
       "\n",
       "    /* Handle when a new output is added */\n",
       "    events.on('output_added.OutputArea', handleAddOutput);\n",
       "\n",
       "    /**\n",
       "     * Register the mime type and append_mime function with output_area\n",
       "     */\n",
       "    OutputArea.prototype.register_mime_type(EXEC_MIME_TYPE, append_mime, {\n",
       "      /* Is output safe? */\n",
       "      safe: true,\n",
       "      /* Index of renderer in `output_area.display_order` */\n",
       "      index: 0\n",
       "    });\n",
       "  }\n",
       "\n",
       "  // register the mime type if in Jupyter Notebook environment and previously unregistered\n",
       "  if (root.Jupyter !== undefined) {\n",
       "    var events = require('base/js/events');\n",
       "    var OutputArea = require('notebook/js/outputarea').OutputArea;\n",
       "\n",
       "    if (OutputArea.prototype.mime_types().indexOf(EXEC_MIME_TYPE) == -1) {\n",
       "      register_renderer(events, OutputArea);\n",
       "    }\n",
       "  }\n",
       "\n",
       "  \n",
       "  if (typeof (root._bokeh_timeout) === \"undefined\" || force === true) {\n",
       "    root._bokeh_timeout = Date.now() + 5000;\n",
       "    root._bokeh_failed_load = false;\n",
       "  }\n",
       "\n",
       "  var NB_LOAD_WARNING = {'data': {'text/html':\n",
       "     \"<div style='background-color: #fdd'>\\n\"+\n",
       "     \"<p>\\n\"+\n",
       "     \"BokehJS does not appear to have successfully loaded. If loading BokehJS from CDN, this \\n\"+\n",
       "     \"may be due to a slow or bad network connection. Possible fixes:\\n\"+\n",
       "     \"</p>\\n\"+\n",
       "     \"<ul>\\n\"+\n",
       "     \"<li>re-rerun `output_notebook()` to attempt to load from CDN again, or</li>\\n\"+\n",
       "     \"<li>use INLINE resources instead, as so:</li>\\n\"+\n",
       "     \"</ul>\\n\"+\n",
       "     \"<code>\\n\"+\n",
       "     \"from bokeh.resources import INLINE\\n\"+\n",
       "     \"output_notebook(resources=INLINE)\\n\"+\n",
       "     \"</code>\\n\"+\n",
       "     \"</div>\"}};\n",
       "\n",
       "  function display_loaded() {\n",
       "    var el = document.getElementById(\"1001\");\n",
       "    if (el != null) {\n",
       "      el.textContent = \"BokehJS is loading...\";\n",
       "    }\n",
       "    if (root.Bokeh !== undefined) {\n",
       "      if (el != null) {\n",
       "        el.textContent = \"BokehJS \" + root.Bokeh.version + \" successfully loaded.\";\n",
       "      }\n",
       "    } else if (Date.now() < root._bokeh_timeout) {\n",
       "      setTimeout(display_loaded, 100)\n",
       "    }\n",
       "  }\n",
       "\n",
       "\n",
       "  function run_callbacks() {\n",
       "    try {\n",
       "      root._bokeh_onload_callbacks.forEach(function(callback) { callback() });\n",
       "    }\n",
       "    finally {\n",
       "      delete root._bokeh_onload_callbacks\n",
       "    }\n",
       "    console.info(\"Bokeh: all callbacks have finished\");\n",
       "  }\n",
       "\n",
       "  function load_libs(js_urls, callback) {\n",
       "    root._bokeh_onload_callbacks.push(callback);\n",
       "    if (root._bokeh_is_loading > 0) {\n",
       "      console.log(\"Bokeh: BokehJS is being loaded, scheduling callback at\", now());\n",
       "      return null;\n",
       "    }\n",
       "    if (js_urls == null || js_urls.length === 0) {\n",
       "      run_callbacks();\n",
       "      return null;\n",
       "    }\n",
       "    console.log(\"Bokeh: BokehJS not loaded, scheduling load and callback at\", now());\n",
       "    root._bokeh_is_loading = js_urls.length;\n",
       "    for (var i = 0; i < js_urls.length; i++) {\n",
       "      var url = js_urls[i];\n",
       "      var s = document.createElement('script');\n",
       "      s.src = url;\n",
       "      s.async = false;\n",
       "      s.onreadystatechange = s.onload = function() {\n",
       "        root._bokeh_is_loading--;\n",
       "        if (root._bokeh_is_loading === 0) {\n",
       "          console.log(\"Bokeh: all BokehJS libraries loaded\");\n",
       "          run_callbacks()\n",
       "        }\n",
       "      };\n",
       "      s.onerror = function() {\n",
       "        console.warn(\"failed to load library \" + url);\n",
       "      };\n",
       "      console.log(\"Bokeh: injecting script tag for BokehJS library: \", url);\n",
       "      document.getElementsByTagName(\"head\")[0].appendChild(s);\n",
       "    }\n",
       "  };var element = document.getElementById(\"1001\");\n",
       "  if (element == null) {\n",
       "    console.log(\"Bokeh: ERROR: autoload.js configured with elementid '1001' but no matching script tag was found. \")\n",
       "    return false;\n",
       "  }\n",
       "\n",
       "  var js_urls = [\"https://cdn.pydata.org/bokeh/release/bokeh-1.0.4.min.js\", \"https://cdn.pydata.org/bokeh/release/bokeh-widgets-1.0.4.min.js\", \"https://cdn.pydata.org/bokeh/release/bokeh-tables-1.0.4.min.js\", \"https://cdn.pydata.org/bokeh/release/bokeh-gl-1.0.4.min.js\"];\n",
       "\n",
       "  var inline_js = [\n",
       "    function(Bokeh) {\n",
       "      Bokeh.set_log_level(\"info\");\n",
       "    },\n",
       "    \n",
       "    function(Bokeh) {\n",
       "      \n",
       "    },\n",
       "    function(Bokeh) {\n",
       "      console.log(\"Bokeh: injecting CSS: https://cdn.pydata.org/bokeh/release/bokeh-1.0.4.min.css\");\n",
       "      Bokeh.embed.inject_css(\"https://cdn.pydata.org/bokeh/release/bokeh-1.0.4.min.css\");\n",
       "      console.log(\"Bokeh: injecting CSS: https://cdn.pydata.org/bokeh/release/bokeh-widgets-1.0.4.min.css\");\n",
       "      Bokeh.embed.inject_css(\"https://cdn.pydata.org/bokeh/release/bokeh-widgets-1.0.4.min.css\");\n",
       "      console.log(\"Bokeh: injecting CSS: https://cdn.pydata.org/bokeh/release/bokeh-tables-1.0.4.min.css\");\n",
       "      Bokeh.embed.inject_css(\"https://cdn.pydata.org/bokeh/release/bokeh-tables-1.0.4.min.css\");\n",
       "    }\n",
       "  ];\n",
       "\n",
       "  function run_inline_js() {\n",
       "    \n",
       "    if ((root.Bokeh !== undefined) || (force === true)) {\n",
       "      for (var i = 0; i < inline_js.length; i++) {\n",
       "        inline_js[i].call(root, root.Bokeh);\n",
       "      }if (force === true) {\n",
       "        display_loaded();\n",
       "      }} else if (Date.now() < root._bokeh_timeout) {\n",
       "      setTimeout(run_inline_js, 100);\n",
       "    } else if (!root._bokeh_failed_load) {\n",
       "      console.log(\"Bokeh: BokehJS failed to load within specified timeout.\");\n",
       "      root._bokeh_failed_load = true;\n",
       "    } else if (force !== true) {\n",
       "      var cell = $(document.getElementById(\"1001\")).parents('.cell').data().cell;\n",
       "      cell.output_area.append_execute_result(NB_LOAD_WARNING)\n",
       "    }\n",
       "\n",
       "  }\n",
       "\n",
       "  if (root._bokeh_is_loading === 0) {\n",
       "    console.log(\"Bokeh: BokehJS loaded, going straight to plotting\");\n",
       "    run_inline_js();\n",
       "  } else {\n",
       "    load_libs(js_urls, function() {\n",
       "      console.log(\"Bokeh: BokehJS plotting callback run at\", now());\n",
       "      run_inline_js();\n",
       "    });\n",
       "  }\n",
       "}(window));"
      ],
      "application/vnd.bokehjs_load.v0+json": "\n(function(root) {\n  function now() {\n    return new Date();\n  }\n\n  var force = true;\n\n  if (typeof (root._bokeh_onload_callbacks) === \"undefined\" || force === true) {\n    root._bokeh_onload_callbacks = [];\n    root._bokeh_is_loading = undefined;\n  }\n\n  \n\n  \n  if (typeof (root._bokeh_timeout) === \"undefined\" || force === true) {\n    root._bokeh_timeout = Date.now() + 5000;\n    root._bokeh_failed_load = false;\n  }\n\n  var NB_LOAD_WARNING = {'data': {'text/html':\n     \"<div style='background-color: #fdd'>\\n\"+\n     \"<p>\\n\"+\n     \"BokehJS does not appear to have successfully loaded. If loading BokehJS from CDN, this \\n\"+\n     \"may be due to a slow or bad network connection. Possible fixes:\\n\"+\n     \"</p>\\n\"+\n     \"<ul>\\n\"+\n     \"<li>re-rerun `output_notebook()` to attempt to load from CDN again, or</li>\\n\"+\n     \"<li>use INLINE resources instead, as so:</li>\\n\"+\n     \"</ul>\\n\"+\n     \"<code>\\n\"+\n     \"from bokeh.resources import INLINE\\n\"+\n     \"output_notebook(resources=INLINE)\\n\"+\n     \"</code>\\n\"+\n     \"</div>\"}};\n\n  function display_loaded() {\n    var el = document.getElementById(\"1001\");\n    if (el != null) {\n      el.textContent = \"BokehJS is loading...\";\n    }\n    if (root.Bokeh !== undefined) {\n      if (el != null) {\n        el.textContent = \"BokehJS \" + root.Bokeh.version + \" successfully loaded.\";\n      }\n    } else if (Date.now() < root._bokeh_timeout) {\n      setTimeout(display_loaded, 100)\n    }\n  }\n\n\n  function run_callbacks() {\n    try {\n      root._bokeh_onload_callbacks.forEach(function(callback) { callback() });\n    }\n    finally {\n      delete root._bokeh_onload_callbacks\n    }\n    console.info(\"Bokeh: all callbacks have finished\");\n  }\n\n  function load_libs(js_urls, callback) {\n    root._bokeh_onload_callbacks.push(callback);\n    if (root._bokeh_is_loading > 0) {\n      console.log(\"Bokeh: BokehJS is being loaded, scheduling callback at\", now());\n      return null;\n    }\n    if (js_urls == null || js_urls.length === 0) {\n      run_callbacks();\n      return null;\n    }\n    console.log(\"Bokeh: BokehJS not loaded, scheduling load and callback at\", now());\n    root._bokeh_is_loading = js_urls.length;\n    for (var i = 0; i < js_urls.length; i++) {\n      var url = js_urls[i];\n      var s = document.createElement('script');\n      s.src = url;\n      s.async = false;\n      s.onreadystatechange = s.onload = function() {\n        root._bokeh_is_loading--;\n        if (root._bokeh_is_loading === 0) {\n          console.log(\"Bokeh: all BokehJS libraries loaded\");\n          run_callbacks()\n        }\n      };\n      s.onerror = function() {\n        console.warn(\"failed to load library \" + url);\n      };\n      console.log(\"Bokeh: injecting script tag for BokehJS library: \", url);\n      document.getElementsByTagName(\"head\")[0].appendChild(s);\n    }\n  };var element = document.getElementById(\"1001\");\n  if (element == null) {\n    console.log(\"Bokeh: ERROR: autoload.js configured with elementid '1001' but no matching script tag was found. \")\n    return false;\n  }\n\n  var js_urls = [\"https://cdn.pydata.org/bokeh/release/bokeh-1.0.4.min.js\", \"https://cdn.pydata.org/bokeh/release/bokeh-widgets-1.0.4.min.js\", \"https://cdn.pydata.org/bokeh/release/bokeh-tables-1.0.4.min.js\", \"https://cdn.pydata.org/bokeh/release/bokeh-gl-1.0.4.min.js\"];\n\n  var inline_js = [\n    function(Bokeh) {\n      Bokeh.set_log_level(\"info\");\n    },\n    \n    function(Bokeh) {\n      \n    },\n    function(Bokeh) {\n      console.log(\"Bokeh: injecting CSS: https://cdn.pydata.org/bokeh/release/bokeh-1.0.4.min.css\");\n      Bokeh.embed.inject_css(\"https://cdn.pydata.org/bokeh/release/bokeh-1.0.4.min.css\");\n      console.log(\"Bokeh: injecting CSS: https://cdn.pydata.org/bokeh/release/bokeh-widgets-1.0.4.min.css\");\n      Bokeh.embed.inject_css(\"https://cdn.pydata.org/bokeh/release/bokeh-widgets-1.0.4.min.css\");\n      console.log(\"Bokeh: injecting CSS: https://cdn.pydata.org/bokeh/release/bokeh-tables-1.0.4.min.css\");\n      Bokeh.embed.inject_css(\"https://cdn.pydata.org/bokeh/release/bokeh-tables-1.0.4.min.css\");\n    }\n  ];\n\n  function run_inline_js() {\n    \n    if ((root.Bokeh !== undefined) || (force === true)) {\n      for (var i = 0; i < inline_js.length; i++) {\n        inline_js[i].call(root, root.Bokeh);\n      }if (force === true) {\n        display_loaded();\n      }} else if (Date.now() < root._bokeh_timeout) {\n      setTimeout(run_inline_js, 100);\n    } else if (!root._bokeh_failed_load) {\n      console.log(\"Bokeh: BokehJS failed to load within specified timeout.\");\n      root._bokeh_failed_load = true;\n    } else if (force !== true) {\n      var cell = $(document.getElementById(\"1001\")).parents('.cell').data().cell;\n      cell.output_area.append_execute_result(NB_LOAD_WARNING)\n    }\n\n  }\n\n  if (root._bokeh_is_loading === 0) {\n    console.log(\"Bokeh: BokehJS loaded, going straight to plotting\");\n    run_inline_js();\n  } else {\n    load_libs(js_urls, function() {\n      console.log(\"Bokeh: BokehJS plotting callback run at\", now());\n      run_inline_js();\n    });\n  }\n}(window));"
     },
     "metadata": {},
     "output_type": "display_data"
    }
   ],
   "source": [
    "from bokeh.plotting import figure, output_notebook, show\n",
    "\n",
    "output_notebook()"
   ]
  },
  {
   "cell_type": "code",
   "execution_count": 2,
   "metadata": {},
   "outputs": [
    {
     "data": {
      "text/html": [
       "\n",
       "\n",
       "\n",
       "\n",
       "\n",
       "\n",
       "  <div class=\"bk-root\" id=\"4610f6c9-d6c5-4ff9-9e1f-ad41cb703b54\" data-root-id=\"1002\"></div>\n"
      ]
     },
     "metadata": {},
     "output_type": "display_data"
    },
    {
     "data": {
      "application/javascript": [
       "(function(root) {\n",
       "  function embed_document(root) {\n",
       "    \n",
       "  var docs_json = {\"4303c180-232d-48d9-a57b-14b703e74378\":{\"roots\":{\"references\":[{\"attributes\":{\"below\":[{\"id\":\"1011\",\"type\":\"LinearAxis\"}],\"left\":[{\"id\":\"1016\",\"type\":\"LinearAxis\"}],\"plot_height\":300,\"plot_width\":300,\"renderers\":[{\"id\":\"1011\",\"type\":\"LinearAxis\"},{\"id\":\"1015\",\"type\":\"Grid\"},{\"id\":\"1016\",\"type\":\"LinearAxis\"},{\"id\":\"1020\",\"type\":\"Grid\"},{\"id\":\"1037\",\"type\":\"GlyphRenderer\"}],\"title\":{\"id\":\"1040\",\"type\":\"Title\"},\"toolbar\":{\"id\":\"1027\",\"type\":\"Toolbar\"},\"x_range\":{\"id\":\"1003\",\"type\":\"DataRange1d\"},\"x_scale\":{\"id\":\"1007\",\"type\":\"LinearScale\"},\"y_range\":{\"id\":\"1005\",\"type\":\"DataRange1d\"},\"y_scale\":{\"id\":\"1009\",\"type\":\"LinearScale\"}},\"id\":\"1002\",\"subtype\":\"Figure\",\"type\":\"Plot\"},{\"attributes\":{\"dimension\":1,\"plot\":{\"id\":\"1002\",\"subtype\":\"Figure\",\"type\":\"Plot\"},\"ticker\":{\"id\":\"1017\",\"type\":\"BasicTicker\"}},\"id\":\"1020\",\"type\":\"Grid\"},{\"attributes\":{\"fill_alpha\":{\"value\":0.1},\"fill_color\":{\"value\":\"#1f77b4\"},\"line_alpha\":{\"value\":0.1},\"line_color\":{\"value\":\"#1f77b4\"},\"xs\":{\"field\":\"xs\"},\"ys\":{\"field\":\"ys\"}},\"id\":\"1036\",\"type\":\"MultiPolygons\"},{\"attributes\":{\"fill_color\":{\"value\":\"#1f77b4\"},\"line_color\":{\"value\":\"#1f77b4\"},\"xs\":{\"field\":\"xs\"},\"ys\":{\"field\":\"ys\"}},\"id\":\"1035\",\"type\":\"MultiPolygons\"},{\"attributes\":{\"source\":{\"id\":\"1034\",\"type\":\"ColumnDataSource\"}},\"id\":\"1038\",\"type\":\"CDSView\"},{\"attributes\":{\"callback\":null},\"id\":\"1021\",\"type\":\"HoverTool\"},{\"attributes\":{\"callback\":null},\"id\":\"1022\",\"type\":\"TapTool\"},{\"attributes\":{},\"id\":\"1023\",\"type\":\"WheelZoomTool\"},{\"attributes\":{},\"id\":\"1024\",\"type\":\"PanTool\"},{\"attributes\":{\"data_source\":{\"id\":\"1034\",\"type\":\"ColumnDataSource\"},\"glyph\":{\"id\":\"1035\",\"type\":\"MultiPolygons\"},\"hover_glyph\":null,\"muted_glyph\":null,\"nonselection_glyph\":{\"id\":\"1036\",\"type\":\"MultiPolygons\"},\"selection_glyph\":null,\"view\":{\"id\":\"1038\",\"type\":\"CDSView\"}},\"id\":\"1037\",\"type\":\"GlyphRenderer\"},{\"attributes\":{\"callback\":null,\"data\":{\"xs\":[[[[1,2,2,1,1]]]],\"ys\":[[[[3,3,4,4,3]]]]},\"selected\":{\"id\":\"1046\",\"type\":\"Selection\"},\"selection_policy\":{\"id\":\"1045\",\"type\":\"UnionRenderers\"}},\"id\":\"1034\",\"type\":\"ColumnDataSource\"},{\"attributes\":{},\"id\":\"1025\",\"type\":\"ResetTool\"},{\"attributes\":{},\"id\":\"1046\",\"type\":\"Selection\"},{\"attributes\":{\"callback\":null},\"id\":\"1003\",\"type\":\"DataRange1d\"},{\"attributes\":{},\"id\":\"1026\",\"type\":\"HelpTool\"},{\"attributes\":{\"callback\":null},\"id\":\"1005\",\"type\":\"DataRange1d\"},{\"attributes\":{\"active_drag\":\"auto\",\"active_inspect\":\"auto\",\"active_multi\":null,\"active_scroll\":\"auto\",\"active_tap\":\"auto\",\"tools\":[{\"id\":\"1021\",\"type\":\"HoverTool\"},{\"id\":\"1022\",\"type\":\"TapTool\"},{\"id\":\"1023\",\"type\":\"WheelZoomTool\"},{\"id\":\"1024\",\"type\":\"PanTool\"},{\"id\":\"1025\",\"type\":\"ResetTool\"},{\"id\":\"1026\",\"type\":\"HelpTool\"}]},\"id\":\"1027\",\"type\":\"Toolbar\"},{\"attributes\":{},\"id\":\"1007\",\"type\":\"LinearScale\"},{\"attributes\":{\"plot\":null,\"text\":\"\"},\"id\":\"1040\",\"type\":\"Title\"},{\"attributes\":{},\"id\":\"1009\",\"type\":\"LinearScale\"},{\"attributes\":{\"formatter\":{\"id\":\"1041\",\"type\":\"BasicTickFormatter\"},\"plot\":{\"id\":\"1002\",\"subtype\":\"Figure\",\"type\":\"Plot\"},\"ticker\":{\"id\":\"1012\",\"type\":\"BasicTicker\"}},\"id\":\"1011\",\"type\":\"LinearAxis\"},{\"attributes\":{},\"id\":\"1012\",\"type\":\"BasicTicker\"},{\"attributes\":{},\"id\":\"1041\",\"type\":\"BasicTickFormatter\"},{\"attributes\":{\"plot\":{\"id\":\"1002\",\"subtype\":\"Figure\",\"type\":\"Plot\"},\"ticker\":{\"id\":\"1012\",\"type\":\"BasicTicker\"}},\"id\":\"1015\",\"type\":\"Grid\"},{\"attributes\":{},\"id\":\"1043\",\"type\":\"BasicTickFormatter\"},{\"attributes\":{\"formatter\":{\"id\":\"1043\",\"type\":\"BasicTickFormatter\"},\"plot\":{\"id\":\"1002\",\"subtype\":\"Figure\",\"type\":\"Plot\"},\"ticker\":{\"id\":\"1017\",\"type\":\"BasicTicker\"}},\"id\":\"1016\",\"type\":\"LinearAxis\"},{\"attributes\":{},\"id\":\"1045\",\"type\":\"UnionRenderers\"},{\"attributes\":{},\"id\":\"1017\",\"type\":\"BasicTicker\"}],\"root_ids\":[\"1002\"]},\"title\":\"Bokeh Application\",\"version\":\"1.0.4\"}};\n",
       "  var render_items = [{\"docid\":\"4303c180-232d-48d9-a57b-14b703e74378\",\"roots\":{\"1002\":\"4610f6c9-d6c5-4ff9-9e1f-ad41cb703b54\"}}];\n",
       "  root.Bokeh.embed.embed_items_notebook(docs_json, render_items);\n",
       "\n",
       "  }\n",
       "  if (root.Bokeh !== undefined) {\n",
       "    embed_document(root);\n",
       "  } else {\n",
       "    var attempts = 0;\n",
       "    var timer = setInterval(function(root) {\n",
       "      if (root.Bokeh !== undefined) {\n",
       "        embed_document(root);\n",
       "        clearInterval(timer);\n",
       "      }\n",
       "      attempts++;\n",
       "      if (attempts > 100) {\n",
       "        console.log(\"Bokeh: ERROR: Unable to run BokehJS code because BokehJS library is missing\");\n",
       "        clearInterval(timer);\n",
       "      }\n",
       "    }, 10, root)\n",
       "  }\n",
       "})(window);"
      ],
      "application/vnd.bokehjs_exec.v0+json": ""
     },
     "metadata": {
      "application/vnd.bokehjs_exec.v0+json": {
       "id": "1002"
      }
     },
     "output_type": "display_data"
    }
   ],
   "source": [
    "p = figure(plot_width=300, plot_height=300, tools='hover,tap,wheel_zoom,pan,reset,help')\n",
    "p.multi_polygons(xs=[[[[1, 2, 2, 1, 1]]]],\n",
    "                 ys=[[[[3, 3, 4, 4, 3]]]])\n",
    "show(p)"
   ]
  },
  {
   "cell_type": "markdown",
   "metadata": {},
   "source": [
    "Notice that in the geojson `Polygon` always starts and ends at the same point and that the direction in which the `Polygon` is drawn (winding) must be counter-clockwise. In `bokeh` we don't have these two restrictions, the direction doesn't matter, and the polygon will be closed even if the starting end ending point are not the same."
   ]
  },
  {
   "cell_type": "code",
   "execution_count": 3,
   "metadata": {},
   "outputs": [
    {
     "data": {
      "text/html": [
       "\n",
       "\n",
       "\n",
       "\n",
       "\n",
       "\n",
       "  <div class=\"bk-root\" id=\"57e58fc6-7ddb-4d7d-b0a9-f0799b98be35\" data-root-id=\"1095\"></div>\n"
      ]
     },
     "metadata": {},
     "output_type": "display_data"
    },
    {
     "data": {
      "application/javascript": [
       "(function(root) {\n",
       "  function embed_document(root) {\n",
       "    \n",
       "  var docs_json = {\"50a6d300-0b6d-4a83-af89-3fbbd9db076b\":{\"roots\":{\"references\":[{\"attributes\":{\"below\":[{\"id\":\"1104\",\"type\":\"LinearAxis\"}],\"left\":[{\"id\":\"1109\",\"type\":\"LinearAxis\"}],\"plot_height\":300,\"plot_width\":300,\"renderers\":[{\"id\":\"1104\",\"type\":\"LinearAxis\"},{\"id\":\"1108\",\"type\":\"Grid\"},{\"id\":\"1109\",\"type\":\"LinearAxis\"},{\"id\":\"1113\",\"type\":\"Grid\"},{\"id\":\"1130\",\"type\":\"GlyphRenderer\"}],\"title\":{\"id\":\"1141\",\"type\":\"Title\"},\"toolbar\":{\"id\":\"1120\",\"type\":\"Toolbar\"},\"x_range\":{\"id\":\"1096\",\"type\":\"DataRange1d\"},\"x_scale\":{\"id\":\"1100\",\"type\":\"LinearScale\"},\"y_range\":{\"id\":\"1098\",\"type\":\"DataRange1d\"},\"y_scale\":{\"id\":\"1102\",\"type\":\"LinearScale\"}},\"id\":\"1095\",\"subtype\":\"Figure\",\"type\":\"Plot\"},{\"attributes\":{},\"id\":\"1116\",\"type\":\"WheelZoomTool\"},{\"attributes\":{\"callback\":null},\"id\":\"1115\",\"type\":\"TapTool\"},{\"attributes\":{},\"id\":\"1144\",\"type\":\"BasicTickFormatter\"},{\"attributes\":{\"callback\":null},\"id\":\"1114\",\"type\":\"HoverTool\"},{\"attributes\":{\"data_source\":{\"id\":\"1127\",\"type\":\"ColumnDataSource\"},\"glyph\":{\"id\":\"1128\",\"type\":\"MultiPolygons\"},\"hover_glyph\":null,\"muted_glyph\":null,\"nonselection_glyph\":{\"id\":\"1129\",\"type\":\"MultiPolygons\"},\"selection_glyph\":null,\"view\":{\"id\":\"1131\",\"type\":\"CDSView\"}},\"id\":\"1130\",\"type\":\"GlyphRenderer\"},{\"attributes\":{},\"id\":\"1117\",\"type\":\"PanTool\"},{\"attributes\":{\"plot\":{\"id\":\"1095\",\"subtype\":\"Figure\",\"type\":\"Plot\"},\"ticker\":{\"id\":\"1105\",\"type\":\"BasicTicker\"}},\"id\":\"1108\",\"type\":\"Grid\"},{\"attributes\":{},\"id\":\"1105\",\"type\":\"BasicTicker\"},{\"attributes\":{\"active_drag\":\"auto\",\"active_inspect\":\"auto\",\"active_multi\":null,\"active_scroll\":\"auto\",\"active_tap\":\"auto\",\"tools\":[{\"id\":\"1114\",\"type\":\"HoverTool\"},{\"id\":\"1115\",\"type\":\"TapTool\"},{\"id\":\"1116\",\"type\":\"WheelZoomTool\"},{\"id\":\"1117\",\"type\":\"PanTool\"},{\"id\":\"1118\",\"type\":\"ResetTool\"},{\"id\":\"1119\",\"type\":\"HelpTool\"}]},\"id\":\"1120\",\"type\":\"Toolbar\"},{\"attributes\":{},\"id\":\"1102\",\"type\":\"LinearScale\"},{\"attributes\":{\"callback\":null},\"id\":\"1096\",\"type\":\"DataRange1d\"},{\"attributes\":{},\"id\":\"1119\",\"type\":\"HelpTool\"},{\"attributes\":{\"formatter\":{\"id\":\"1142\",\"type\":\"BasicTickFormatter\"},\"plot\":{\"id\":\"1095\",\"subtype\":\"Figure\",\"type\":\"Plot\"},\"ticker\":{\"id\":\"1105\",\"type\":\"BasicTicker\"}},\"id\":\"1104\",\"type\":\"LinearAxis\"},{\"attributes\":{\"callback\":null},\"id\":\"1098\",\"type\":\"DataRange1d\"},{\"attributes\":{},\"id\":\"1100\",\"type\":\"LinearScale\"},{\"attributes\":{\"plot\":null,\"text\":\"\"},\"id\":\"1141\",\"type\":\"Title\"},{\"attributes\":{},\"id\":\"1146\",\"type\":\"UnionRenderers\"},{\"attributes\":{\"formatter\":{\"id\":\"1144\",\"type\":\"BasicTickFormatter\"},\"plot\":{\"id\":\"1095\",\"subtype\":\"Figure\",\"type\":\"Plot\"},\"ticker\":{\"id\":\"1110\",\"type\":\"BasicTicker\"}},\"id\":\"1109\",\"type\":\"LinearAxis\"},{\"attributes\":{\"callback\":null,\"data\":{\"xs\":[[[[1,1,2,2]]]],\"ys\":[[[[3,4,4,3]]]]},\"selected\":{\"id\":\"1147\",\"type\":\"Selection\"},\"selection_policy\":{\"id\":\"1146\",\"type\":\"UnionRenderers\"}},\"id\":\"1127\",\"type\":\"ColumnDataSource\"},{\"attributes\":{},\"id\":\"1110\",\"type\":\"BasicTicker\"},{\"attributes\":{\"fill_color\":{\"value\":\"#1f77b4\"},\"line_color\":{\"value\":\"#1f77b4\"},\"xs\":{\"field\":\"xs\"},\"ys\":{\"field\":\"ys\"}},\"id\":\"1128\",\"type\":\"MultiPolygons\"},{\"attributes\":{\"fill_alpha\":{\"value\":0.1},\"fill_color\":{\"value\":\"#1f77b4\"},\"line_alpha\":{\"value\":0.1},\"line_color\":{\"value\":\"#1f77b4\"},\"xs\":{\"field\":\"xs\"},\"ys\":{\"field\":\"ys\"}},\"id\":\"1129\",\"type\":\"MultiPolygons\"},{\"attributes\":{},\"id\":\"1142\",\"type\":\"BasicTickFormatter\"},{\"attributes\":{\"dimension\":1,\"plot\":{\"id\":\"1095\",\"subtype\":\"Figure\",\"type\":\"Plot\"},\"ticker\":{\"id\":\"1110\",\"type\":\"BasicTicker\"}},\"id\":\"1113\",\"type\":\"Grid\"},{\"attributes\":{},\"id\":\"1118\",\"type\":\"ResetTool\"},{\"attributes\":{},\"id\":\"1147\",\"type\":\"Selection\"},{\"attributes\":{\"source\":{\"id\":\"1127\",\"type\":\"ColumnDataSource\"}},\"id\":\"1131\",\"type\":\"CDSView\"}],\"root_ids\":[\"1095\"]},\"title\":\"Bokeh Application\",\"version\":\"1.0.4\"}};\n",
       "  var render_items = [{\"docid\":\"50a6d300-0b6d-4a83-af89-3fbbd9db076b\",\"roots\":{\"1095\":\"57e58fc6-7ddb-4d7d-b0a9-f0799b98be35\"}}];\n",
       "  root.Bokeh.embed.embed_items_notebook(docs_json, render_items);\n",
       "\n",
       "  }\n",
       "  if (root.Bokeh !== undefined) {\n",
       "    embed_document(root);\n",
       "  } else {\n",
       "    var attempts = 0;\n",
       "    var timer = setInterval(function(root) {\n",
       "      if (root.Bokeh !== undefined) {\n",
       "        embed_document(root);\n",
       "        clearInterval(timer);\n",
       "      }\n",
       "      attempts++;\n",
       "      if (attempts > 100) {\n",
       "        console.log(\"Bokeh: ERROR: Unable to run BokehJS code because BokehJS library is missing\");\n",
       "        clearInterval(timer);\n",
       "      }\n",
       "    }, 10, root)\n",
       "  }\n",
       "})(window);"
      ],
      "application/vnd.bokehjs_exec.v0+json": ""
     },
     "metadata": {
      "application/vnd.bokehjs_exec.v0+json": {
       "id": "1095"
      }
     },
     "output_type": "display_data"
    }
   ],
   "source": [
    "p = figure(plot_width=300, plot_height=300, tools='hover,tap,wheel_zoom,pan,reset,help')\n",
    "p.multi_polygons(xs=[[[[1, 1, 2, 2]]]],\n",
    "                 ys=[[[[3, 4, 4, 3]]]])\n",
    "show(p)"
   ]
  },
  {
   "cell_type": "markdown",
   "metadata": {},
   "source": [
    "## Polygon with holes\n",
    "\n",
    "Now we'll add some holes to the square polygon defined above. We'll add a triangle in the lower left corner and another in the upper right corner. In geojson this can be represented as follows:\n",
    "\n",
    "```geojson\n",
    " {\n",
    "     \"type\": \"Polygon\",\n",
    "     \"coordinates\": [\n",
    "         [\n",
    "             [1, 3],\n",
    "             [2, 3],\n",
    "             [2, 4],\n",
    "             [1, 4],\n",
    "             [1, 3]\n",
    "         ],\n",
    "         [\n",
    "             [1.2, 3.2],\n",
    "             [1.6, 3.6],\n",
    "             [1.6, 3.2],\n",
    "             [1.2, 3.2]\n",
    "         ],\n",
    "         [\n",
    "             [1.8, 3.8],\n",
    "             [1.8, 3.4],\n",
    "             [1.6, 3.8],\n",
    "             [1.8, 3.8]\n",
    "         ]\n",
    "     ]\n",
    " }\n",
    "```"
   ]
  },
  {
   "cell_type": "markdown",
   "metadata": {},
   "source": [
    "Once again notice that the direction in which the polygons are drawn doesn't matter and the last point in a polygon does not need to match the first. Hover over the holes to demonstrate that they aren't considered part of the `Polygon`. "
   ]
  },
  {
   "cell_type": "code",
   "execution_count": 4,
   "metadata": {},
   "outputs": [
    {
     "data": {
      "text/html": [
       "\n",
       "\n",
       "\n",
       "\n",
       "\n",
       "\n",
       "  <div class=\"bk-root\" id=\"c3e462bb-443e-4fa0-8f5b-d88e5149887f\" data-root-id=\"1196\"></div>\n"
      ]
     },
     "metadata": {},
     "output_type": "display_data"
    },
    {
     "data": {
      "application/javascript": [
       "(function(root) {\n",
       "  function embed_document(root) {\n",
       "    \n",
       "  var docs_json = {\"5b4dcbe6-1c3d-40ce-8369-86624b940ccb\":{\"roots\":{\"references\":[{\"attributes\":{\"below\":[{\"id\":\"1205\",\"type\":\"LinearAxis\"}],\"left\":[{\"id\":\"1210\",\"type\":\"LinearAxis\"}],\"plot_height\":300,\"plot_width\":300,\"renderers\":[{\"id\":\"1205\",\"type\":\"LinearAxis\"},{\"id\":\"1209\",\"type\":\"Grid\"},{\"id\":\"1210\",\"type\":\"LinearAxis\"},{\"id\":\"1214\",\"type\":\"Grid\"},{\"id\":\"1231\",\"type\":\"GlyphRenderer\"}],\"title\":{\"id\":\"1250\",\"type\":\"Title\"},\"toolbar\":{\"id\":\"1221\",\"type\":\"Toolbar\"},\"x_range\":{\"id\":\"1197\",\"type\":\"DataRange1d\"},\"x_scale\":{\"id\":\"1201\",\"type\":\"LinearScale\"},\"y_range\":{\"id\":\"1199\",\"type\":\"DataRange1d\"},\"y_scale\":{\"id\":\"1203\",\"type\":\"LinearScale\"}},\"id\":\"1196\",\"subtype\":\"Figure\",\"type\":\"Plot\"},{\"attributes\":{\"data_source\":{\"id\":\"1228\",\"type\":\"ColumnDataSource\"},\"glyph\":{\"id\":\"1229\",\"type\":\"MultiPolygons\"},\"hover_glyph\":null,\"muted_glyph\":null,\"nonselection_glyph\":{\"id\":\"1230\",\"type\":\"MultiPolygons\"},\"selection_glyph\":null,\"view\":{\"id\":\"1232\",\"type\":\"CDSView\"}},\"id\":\"1231\",\"type\":\"GlyphRenderer\"},{\"attributes\":{},\"id\":\"1256\",\"type\":\"Selection\"},{\"attributes\":{\"plot\":{\"id\":\"1196\",\"subtype\":\"Figure\",\"type\":\"Plot\"},\"ticker\":{\"id\":\"1206\",\"type\":\"BasicTicker\"}},\"id\":\"1209\",\"type\":\"Grid\"},{\"attributes\":{\"fill_alpha\":{\"value\":0.1},\"fill_color\":{\"value\":\"#1f77b4\"},\"line_alpha\":{\"value\":0.1},\"line_color\":{\"value\":\"#1f77b4\"},\"xs\":{\"field\":\"xs\"},\"ys\":{\"field\":\"ys\"}},\"id\":\"1230\",\"type\":\"MultiPolygons\"},{\"attributes\":{\"fill_color\":{\"value\":\"#1f77b4\"},\"line_color\":{\"value\":\"#1f77b4\"},\"xs\":{\"field\":\"xs\"},\"ys\":{\"field\":\"ys\"}},\"id\":\"1229\",\"type\":\"MultiPolygons\"},{\"attributes\":{\"source\":{\"id\":\"1228\",\"type\":\"ColumnDataSource\"}},\"id\":\"1232\",\"type\":\"CDSView\"},{\"attributes\":{\"callback\":null},\"id\":\"1215\",\"type\":\"HoverTool\"},{\"attributes\":{\"callback\":null},\"id\":\"1216\",\"type\":\"TapTool\"},{\"attributes\":{},\"id\":\"1217\",\"type\":\"WheelZoomTool\"},{\"attributes\":{\"dimension\":1,\"plot\":{\"id\":\"1196\",\"subtype\":\"Figure\",\"type\":\"Plot\"},\"ticker\":{\"id\":\"1211\",\"type\":\"BasicTicker\"}},\"id\":\"1214\",\"type\":\"Grid\"},{\"attributes\":{},\"id\":\"1201\",\"type\":\"LinearScale\"},{\"attributes\":{\"formatter\":{\"id\":\"1251\",\"type\":\"BasicTickFormatter\"},\"plot\":{\"id\":\"1196\",\"subtype\":\"Figure\",\"type\":\"Plot\"},\"ticker\":{\"id\":\"1206\",\"type\":\"BasicTicker\"}},\"id\":\"1205\",\"type\":\"LinearAxis\"},{\"attributes\":{},\"id\":\"1251\",\"type\":\"BasicTickFormatter\"},{\"attributes\":{},\"id\":\"1219\",\"type\":\"ResetTool\"},{\"attributes\":{},\"id\":\"1203\",\"type\":\"LinearScale\"},{\"attributes\":{},\"id\":\"1206\",\"type\":\"BasicTicker\"},{\"attributes\":{\"formatter\":{\"id\":\"1253\",\"type\":\"BasicTickFormatter\"},\"plot\":{\"id\":\"1196\",\"subtype\":\"Figure\",\"type\":\"Plot\"},\"ticker\":{\"id\":\"1211\",\"type\":\"BasicTicker\"}},\"id\":\"1210\",\"type\":\"LinearAxis\"},{\"attributes\":{\"callback\":null},\"id\":\"1199\",\"type\":\"DataRange1d\"},{\"attributes\":{},\"id\":\"1220\",\"type\":\"HelpTool\"},{\"attributes\":{},\"id\":\"1211\",\"type\":\"BasicTicker\"},{\"attributes\":{\"callback\":null},\"id\":\"1197\",\"type\":\"DataRange1d\"},{\"attributes\":{\"active_drag\":\"auto\",\"active_inspect\":\"auto\",\"active_multi\":null,\"active_scroll\":\"auto\",\"active_tap\":\"auto\",\"tools\":[{\"id\":\"1215\",\"type\":\"HoverTool\"},{\"id\":\"1216\",\"type\":\"TapTool\"},{\"id\":\"1217\",\"type\":\"WheelZoomTool\"},{\"id\":\"1218\",\"type\":\"PanTool\"},{\"id\":\"1219\",\"type\":\"ResetTool\"},{\"id\":\"1220\",\"type\":\"HelpTool\"}]},\"id\":\"1221\",\"type\":\"Toolbar\"},{\"attributes\":{\"plot\":null,\"text\":\"\"},\"id\":\"1250\",\"type\":\"Title\"},{\"attributes\":{},\"id\":\"1218\",\"type\":\"PanTool\"},{\"attributes\":{\"callback\":null,\"data\":{\"xs\":[[[[1,2,2,1],[1.2,1.6,1.6],[1.8,1.8,1.6]]]],\"ys\":[[[[3,3,4,4],[3.2,3.6,3.2],[3.4,3.8,3.8]]]]},\"selected\":{\"id\":\"1256\",\"type\":\"Selection\"},\"selection_policy\":{\"id\":\"1255\",\"type\":\"UnionRenderers\"}},\"id\":\"1228\",\"type\":\"ColumnDataSource\"},{\"attributes\":{},\"id\":\"1255\",\"type\":\"UnionRenderers\"},{\"attributes\":{},\"id\":\"1253\",\"type\":\"BasicTickFormatter\"}],\"root_ids\":[\"1196\"]},\"title\":\"Bokeh Application\",\"version\":\"1.0.4\"}};\n",
       "  var render_items = [{\"docid\":\"5b4dcbe6-1c3d-40ce-8369-86624b940ccb\",\"roots\":{\"1196\":\"c3e462bb-443e-4fa0-8f5b-d88e5149887f\"}}];\n",
       "  root.Bokeh.embed.embed_items_notebook(docs_json, render_items);\n",
       "\n",
       "  }\n",
       "  if (root.Bokeh !== undefined) {\n",
       "    embed_document(root);\n",
       "  } else {\n",
       "    var attempts = 0;\n",
       "    var timer = setInterval(function(root) {\n",
       "      if (root.Bokeh !== undefined) {\n",
       "        embed_document(root);\n",
       "        clearInterval(timer);\n",
       "      }\n",
       "      attempts++;\n",
       "      if (attempts > 100) {\n",
       "        console.log(\"Bokeh: ERROR: Unable to run BokehJS code because BokehJS library is missing\");\n",
       "        clearInterval(timer);\n",
       "      }\n",
       "    }, 10, root)\n",
       "  }\n",
       "})(window);"
      ],
      "application/vnd.bokehjs_exec.v0+json": ""
     },
     "metadata": {
      "application/vnd.bokehjs_exec.v0+json": {
       "id": "1196"
      }
     },
     "output_type": "display_data"
    }
   ],
   "source": [
    "p = figure(plot_width=300, plot_height=300, tools='hover,tap,wheel_zoom,pan,reset,help')\n",
    "p.multi_polygons(xs=[[[ [1, 2, 2, 1], [1.2, 1.6, 1.6], [1.8, 1.8, 1.6] ]]],\n",
    "                 ys=[[[ [3, 3, 4, 4], [3.2, 3.6, 3.2], [3.4, 3.8, 3.8] ]]])\n",
    "show(p)"
   ]
  },
  {
   "cell_type": "markdown",
   "metadata": {},
   "source": [
    "## MultiPolygon\n",
    "\n",
    "Now we'll examine a `MultiPolygon`. A `MultiPolygon` is composed of different parts each of which is a `Polygon` and each of which can have or not have holes. To create a `MultiPolygon` from the `Polygon` that we are using above, we'll add a triangle below the square with holes. Here is how this shape would be represented in geojson:\n",
    "\n",
    "\n",
    "```geojson\n",
    " {\n",
    "     \"type\": \"MultiPolygon\",\n",
    "     \"coordinates\": [\n",
    "         [\n",
    "             [\n",
    "                 [1, 3],\n",
    "                 [2, 3],\n",
    "                 [2, 4],\n",
    "                 [1, 4],\n",
    "                 [1, 3]\n",
    "             ],\n",
    "             [\n",
    "                 [1.2, 3.2],\n",
    "                 [1.6, 3.6],\n",
    "                 [1.6, 3.2],\n",
    "                 [1.2, 3.2]\n",
    "             ],\n",
    "             [\n",
    "                 [1.8, 3.8],\n",
    "                 [1.8, 3.4],\n",
    "                 [1.6, 3.8],\n",
    "                 [1.8, 3.8]\n",
    "             ]\n",
    "         ],\n",
    "         [\n",
    "             [\n",
    "                 [3, 1],\n",
    "                 [4, 1],\n",
    "                 [3, 3],\n",
    "                 [3, 1]\n",
    "             ]\n",
    "         ]\n",
    "     ]\n",
    " }\n",
    "```"
   ]
  },
  {
   "cell_type": "code",
   "execution_count": 5,
   "metadata": {},
   "outputs": [
    {
     "data": {
      "text/html": [
       "\n",
       "\n",
       "\n",
       "\n",
       "\n",
       "\n",
       "  <div class=\"bk-root\" id=\"dbb86e9c-f424-47dc-99a7-9d596dea8004\" data-root-id=\"1305\"></div>\n"
      ]
     },
     "metadata": {},
     "output_type": "display_data"
    },
    {
     "data": {
      "application/javascript": [
       "(function(root) {\n",
       "  function embed_document(root) {\n",
       "    \n",
       "  var docs_json = {\"9ebe8a70-bcf8-430c-a386-ba0c31ed0051\":{\"roots\":{\"references\":[{\"attributes\":{\"below\":[{\"id\":\"1314\",\"type\":\"LinearAxis\"}],\"left\":[{\"id\":\"1319\",\"type\":\"LinearAxis\"}],\"plot_height\":300,\"plot_width\":300,\"renderers\":[{\"id\":\"1314\",\"type\":\"LinearAxis\"},{\"id\":\"1318\",\"type\":\"Grid\"},{\"id\":\"1319\",\"type\":\"LinearAxis\"},{\"id\":\"1323\",\"type\":\"Grid\"},{\"id\":\"1340\",\"type\":\"GlyphRenderer\"}],\"title\":{\"id\":\"1367\",\"type\":\"Title\"},\"toolbar\":{\"id\":\"1330\",\"type\":\"Toolbar\"},\"x_range\":{\"id\":\"1306\",\"type\":\"DataRange1d\"},\"x_scale\":{\"id\":\"1310\",\"type\":\"LinearScale\"},\"y_range\":{\"id\":\"1308\",\"type\":\"DataRange1d\"},\"y_scale\":{\"id\":\"1312\",\"type\":\"LinearScale\"}},\"id\":\"1305\",\"subtype\":\"Figure\",\"type\":\"Plot\"},{\"attributes\":{\"callback\":null},\"id\":\"1324\",\"type\":\"HoverTool\"},{\"attributes\":{\"fill_alpha\":{\"value\":0.1},\"fill_color\":{\"value\":\"#1f77b4\"},\"line_alpha\":{\"value\":0.1},\"line_color\":{\"value\":\"#1f77b4\"},\"xs\":{\"field\":\"xs\"},\"ys\":{\"field\":\"ys\"}},\"id\":\"1339\",\"type\":\"MultiPolygons\"},{\"attributes\":{},\"id\":\"1329\",\"type\":\"HelpTool\"},{\"attributes\":{\"data_source\":{\"id\":\"1337\",\"type\":\"ColumnDataSource\"},\"glyph\":{\"id\":\"1338\",\"type\":\"MultiPolygons\"},\"hover_glyph\":null,\"muted_glyph\":null,\"nonselection_glyph\":{\"id\":\"1339\",\"type\":\"MultiPolygons\"},\"selection_glyph\":null,\"view\":{\"id\":\"1341\",\"type\":\"CDSView\"}},\"id\":\"1340\",\"type\":\"GlyphRenderer\"},{\"attributes\":{},\"id\":\"1327\",\"type\":\"PanTool\"},{\"attributes\":{},\"id\":\"1326\",\"type\":\"WheelZoomTool\"},{\"attributes\":{},\"id\":\"1320\",\"type\":\"BasicTicker\"},{\"attributes\":{},\"id\":\"1312\",\"type\":\"LinearScale\"},{\"attributes\":{\"active_drag\":\"auto\",\"active_inspect\":\"auto\",\"active_multi\":null,\"active_scroll\":\"auto\",\"active_tap\":\"auto\",\"tools\":[{\"id\":\"1324\",\"type\":\"HoverTool\"},{\"id\":\"1325\",\"type\":\"TapTool\"},{\"id\":\"1326\",\"type\":\"WheelZoomTool\"},{\"id\":\"1327\",\"type\":\"PanTool\"},{\"id\":\"1328\",\"type\":\"ResetTool\"},{\"id\":\"1329\",\"type\":\"HelpTool\"}]},\"id\":\"1330\",\"type\":\"Toolbar\"},{\"attributes\":{},\"id\":\"1315\",\"type\":\"BasicTicker\"},{\"attributes\":{},\"id\":\"1368\",\"type\":\"BasicTickFormatter\"},{\"attributes\":{\"formatter\":{\"id\":\"1370\",\"type\":\"BasicTickFormatter\"},\"plot\":{\"id\":\"1305\",\"subtype\":\"Figure\",\"type\":\"Plot\"},\"ticker\":{\"id\":\"1320\",\"type\":\"BasicTicker\"}},\"id\":\"1319\",\"type\":\"LinearAxis\"},{\"attributes\":{\"dimension\":1,\"plot\":{\"id\":\"1305\",\"subtype\":\"Figure\",\"type\":\"Plot\"},\"ticker\":{\"id\":\"1320\",\"type\":\"BasicTicker\"}},\"id\":\"1323\",\"type\":\"Grid\"},{\"attributes\":{},\"id\":\"1310\",\"type\":\"LinearScale\"},{\"attributes\":{\"plot\":null,\"text\":\"\"},\"id\":\"1367\",\"type\":\"Title\"},{\"attributes\":{\"callback\":null},\"id\":\"1308\",\"type\":\"DataRange1d\"},{\"attributes\":{\"formatter\":{\"id\":\"1368\",\"type\":\"BasicTickFormatter\"},\"plot\":{\"id\":\"1305\",\"subtype\":\"Figure\",\"type\":\"Plot\"},\"ticker\":{\"id\":\"1315\",\"type\":\"BasicTicker\"}},\"id\":\"1314\",\"type\":\"LinearAxis\"},{\"attributes\":{\"callback\":null,\"data\":{\"xs\":[[[[1,1,2,2],[1.2,1.6,1.6],[1.8,1.8,1.6]],[[3,4,3]]]],\"ys\":[[[[4,3,3,4],[3.2,3.2,3.6],[3.4,3.8,3.8]],[[1,1,3]]]]},\"selected\":{\"id\":\"1373\",\"type\":\"Selection\"},\"selection_policy\":{\"id\":\"1372\",\"type\":\"UnionRenderers\"}},\"id\":\"1337\",\"type\":\"ColumnDataSource\"},{\"attributes\":{},\"id\":\"1372\",\"type\":\"UnionRenderers\"},{\"attributes\":{\"callback\":null},\"id\":\"1306\",\"type\":\"DataRange1d\"},{\"attributes\":{\"callback\":null},\"id\":\"1325\",\"type\":\"TapTool\"},{\"attributes\":{},\"id\":\"1370\",\"type\":\"BasicTickFormatter\"},{\"attributes\":{},\"id\":\"1373\",\"type\":\"Selection\"},{\"attributes\":{\"plot\":{\"id\":\"1305\",\"subtype\":\"Figure\",\"type\":\"Plot\"},\"ticker\":{\"id\":\"1315\",\"type\":\"BasicTicker\"}},\"id\":\"1318\",\"type\":\"Grid\"},{\"attributes\":{},\"id\":\"1328\",\"type\":\"ResetTool\"},{\"attributes\":{\"source\":{\"id\":\"1337\",\"type\":\"ColumnDataSource\"}},\"id\":\"1341\",\"type\":\"CDSView\"},{\"attributes\":{\"fill_color\":{\"value\":\"#1f77b4\"},\"line_color\":{\"value\":\"#1f77b4\"},\"xs\":{\"field\":\"xs\"},\"ys\":{\"field\":\"ys\"}},\"id\":\"1338\",\"type\":\"MultiPolygons\"}],\"root_ids\":[\"1305\"]},\"title\":\"Bokeh Application\",\"version\":\"1.0.4\"}};\n",
       "  var render_items = [{\"docid\":\"9ebe8a70-bcf8-430c-a386-ba0c31ed0051\",\"roots\":{\"1305\":\"dbb86e9c-f424-47dc-99a7-9d596dea8004\"}}];\n",
       "  root.Bokeh.embed.embed_items_notebook(docs_json, render_items);\n",
       "\n",
       "  }\n",
       "  if (root.Bokeh !== undefined) {\n",
       "    embed_document(root);\n",
       "  } else {\n",
       "    var attempts = 0;\n",
       "    var timer = setInterval(function(root) {\n",
       "      if (root.Bokeh !== undefined) {\n",
       "        embed_document(root);\n",
       "        clearInterval(timer);\n",
       "      }\n",
       "      attempts++;\n",
       "      if (attempts > 100) {\n",
       "        console.log(\"Bokeh: ERROR: Unable to run BokehJS code because BokehJS library is missing\");\n",
       "        clearInterval(timer);\n",
       "      }\n",
       "    }, 10, root)\n",
       "  }\n",
       "})(window);"
      ],
      "application/vnd.bokehjs_exec.v0+json": ""
     },
     "metadata": {
      "application/vnd.bokehjs_exec.v0+json": {
       "id": "1305"
      }
     },
     "output_type": "display_data"
    }
   ],
   "source": [
    "p = figure(plot_width=300, plot_height=300, tools='hover,tap,wheel_zoom,pan,reset,help')\n",
    "p.multi_polygons(xs=[[[ [1, 1, 2, 2], [1.2, 1.6, 1.6], [1.8, 1.8, 1.6] ], [ [3, 4, 3] ]]],\n",
    "                 ys=[[[ [4, 3, 3, 4], [3.2, 3.2, 3.6], [3.4, 3.8, 3.8] ], [ [1, 1, 3] ]]])\n",
    "show(p)"
   ]
  },
  {
   "cell_type": "markdown",
   "metadata": {},
   "source": [
    "It is important to understand that the `Polygons` that make up this `MultiPolygon` are part of the same entity. It can be helpful to think of representing physically separate areas that are part of the same entity such as the islands of Hawaii."
   ]
  },
  {
   "cell_type": "markdown",
   "metadata": {},
   "source": [
    "## MultiPolygons\n",
    "\n",
    "Finally, we'll take a look at how we can represent a list of `MultiPolygons`. Each `Mulipolygon` represents a different entity. In geojson this would be a `FeatureCollection`:\n",
    "\n",
    "```geojson\n",
    "{\n",
    "    \"type\": \"FeatureCollection\",\n",
    "    \"features\": [\n",
    "    {\n",
    "        \"type\": \"Feature\",\n",
    "        \"properties\": {\n",
    "            \"fill\": \"blue\"\n",
    "        },\n",
    "        \"geometry\": {\n",
    "            \"type\": \"MultiPolygon\",\n",
    "            \"coordinates\": [\n",
    "                [\n",
    "                    [\n",
    "                        [1, 3],\n",
    "                        [2, 3],\n",
    "                        [2, 4],\n",
    "                        [1, 4],\n",
    "                        [1, 3]\n",
    "                    ],\n",
    "                    [\n",
    "                        [1.2, 3.2],\n",
    "                        [1.6, 3.6],\n",
    "                        [1.6, 3.2],\n",
    "                        [1.2, 3.2]\n",
    "                    ],\n",
    "                    [\n",
    "                        [1.8, 3.8],\n",
    "                        [1.8, 3.4],\n",
    "                        [1.6, 3.8],\n",
    "                        [1.8, 3.8]\n",
    "                    ]\n",
    "                ],\n",
    "                [\n",
    "                    [\n",
    "                        [3, 1],\n",
    "                        [4, 1],\n",
    "                        [3, 3],\n",
    "                        [3, 1]\n",
    "                    ]\n",
    "                ]\n",
    "            ]\n",
    "        }\n",
    "    },\n",
    "    {\n",
    "        \"type\": \"Feature\",\n",
    "        \"properties\": {\n",
    "            \"fill\": \"red\"\n",
    "        },\n",
    "         \"geometry\": {\n",
    "            \"type\": \"Polygon\",\n",
    "            \"coordinates\": [\n",
    "                [\n",
    "                    [1, 1],\n",
    "                    [2, 1],\n",
    "                    [2, 2],\n",
    "                    [1, 2],\n",
    "                    [1, 1]\n",
    "                ],\n",
    "                [\n",
    "                    [1.3, 1.3],\n",
    "                    [1.3, 1.7],\n",
    "                    [1.7, 1.7],\n",
    "                    [1.7, 1.3]\n",
    "                    [1.3, 1.3]\n",
    "                ]\n",
    "            ]\n",
    "        }\n",
    "    }\n",
    "]}\n",
    "```"
   ]
  },
  {
   "cell_type": "code",
   "execution_count": 6,
   "metadata": {},
   "outputs": [
    {
     "data": {
      "text/html": [
       "\n",
       "\n",
       "\n",
       "\n",
       "\n",
       "\n",
       "  <div class=\"bk-root\" id=\"9c55fdcc-e089-4571-841e-5e4d7a4edff8\" data-root-id=\"1422\"></div>\n"
      ]
     },
     "metadata": {},
     "output_type": "display_data"
    },
    {
     "data": {
      "application/javascript": [
       "(function(root) {\n",
       "  function embed_document(root) {\n",
       "    \n",
       "  var docs_json = {\"c9719d05-4a98-466c-8379-92d4d2827c17\":{\"roots\":{\"references\":[{\"attributes\":{\"below\":[{\"id\":\"1431\",\"type\":\"LinearAxis\"}],\"left\":[{\"id\":\"1436\",\"type\":\"LinearAxis\"}],\"plot_height\":300,\"plot_width\":300,\"renderers\":[{\"id\":\"1431\",\"type\":\"LinearAxis\"},{\"id\":\"1435\",\"type\":\"Grid\"},{\"id\":\"1436\",\"type\":\"LinearAxis\"},{\"id\":\"1440\",\"type\":\"Grid\"},{\"id\":\"1457\",\"type\":\"GlyphRenderer\"}],\"title\":{\"id\":\"1492\",\"type\":\"Title\"},\"toolbar\":{\"id\":\"1447\",\"type\":\"Toolbar\"},\"x_range\":{\"id\":\"1423\",\"type\":\"DataRange1d\"},\"x_scale\":{\"id\":\"1427\",\"type\":\"LinearScale\"},\"y_range\":{\"id\":\"1425\",\"type\":\"DataRange1d\"},\"y_scale\":{\"id\":\"1429\",\"type\":\"LinearScale\"}},\"id\":\"1422\",\"subtype\":\"Figure\",\"type\":\"Plot\"},{\"attributes\":{\"active_drag\":\"auto\",\"active_inspect\":\"auto\",\"active_multi\":null,\"active_scroll\":\"auto\",\"active_tap\":\"auto\",\"tools\":[{\"id\":\"1441\",\"type\":\"HoverTool\"},{\"id\":\"1442\",\"type\":\"TapTool\"},{\"id\":\"1443\",\"type\":\"WheelZoomTool\"},{\"id\":\"1444\",\"type\":\"PanTool\"},{\"id\":\"1445\",\"type\":\"ResetTool\"},{\"id\":\"1446\",\"type\":\"HelpTool\"}]},\"id\":\"1447\",\"type\":\"Toolbar\"},{\"attributes\":{\"callback\":null},\"id\":\"1425\",\"type\":\"DataRange1d\"},{\"attributes\":{},\"id\":\"1495\",\"type\":\"BasicTickFormatter\"},{\"attributes\":{},\"id\":\"1427\",\"type\":\"LinearScale\"},{\"attributes\":{\"source\":{\"id\":\"1454\",\"type\":\"ColumnDataSource\"}},\"id\":\"1458\",\"type\":\"CDSView\"},{\"attributes\":{},\"id\":\"1429\",\"type\":\"LinearScale\"},{\"attributes\":{},\"id\":\"1493\",\"type\":\"BasicTickFormatter\"},{\"attributes\":{\"formatter\":{\"id\":\"1493\",\"type\":\"BasicTickFormatter\"},\"plot\":{\"id\":\"1422\",\"subtype\":\"Figure\",\"type\":\"Plot\"},\"ticker\":{\"id\":\"1432\",\"type\":\"BasicTicker\"}},\"id\":\"1431\",\"type\":\"LinearAxis\"},{\"attributes\":{},\"id\":\"1432\",\"type\":\"BasicTicker\"},{\"attributes\":{\"plot\":{\"id\":\"1422\",\"subtype\":\"Figure\",\"type\":\"Plot\"},\"ticker\":{\"id\":\"1432\",\"type\":\"BasicTicker\"}},\"id\":\"1435\",\"type\":\"Grid\"},{\"attributes\":{\"formatter\":{\"id\":\"1495\",\"type\":\"BasicTickFormatter\"},\"plot\":{\"id\":\"1422\",\"subtype\":\"Figure\",\"type\":\"Plot\"},\"ticker\":{\"id\":\"1437\",\"type\":\"BasicTicker\"}},\"id\":\"1436\",\"type\":\"LinearAxis\"},{\"attributes\":{},\"id\":\"1497\",\"type\":\"UnionRenderers\"},{\"attributes\":{},\"id\":\"1437\",\"type\":\"BasicTicker\"},{\"attributes\":{},\"id\":\"1445\",\"type\":\"ResetTool\"},{\"attributes\":{\"dimension\":1,\"plot\":{\"id\":\"1422\",\"subtype\":\"Figure\",\"type\":\"Plot\"},\"ticker\":{\"id\":\"1437\",\"type\":\"BasicTicker\"}},\"id\":\"1440\",\"type\":\"Grid\"},{\"attributes\":{\"fill_alpha\":{\"value\":0.1},\"fill_color\":{\"value\":\"#1f77b4\"},\"line_alpha\":{\"value\":0.1},\"line_color\":{\"value\":\"#1f77b4\"},\"xs\":{\"field\":\"xs\"},\"ys\":{\"field\":\"ys\"}},\"id\":\"1456\",\"type\":\"MultiPolygons\"},{\"attributes\":{\"fill_color\":{\"field\":\"fill_color\"},\"line_color\":{\"field\":\"line_color\"},\"xs\":{\"field\":\"xs\"},\"ys\":{\"field\":\"ys\"}},\"id\":\"1455\",\"type\":\"MultiPolygons\"},{\"attributes\":{\"plot\":null,\"text\":\"\"},\"id\":\"1492\",\"type\":\"Title\"},{\"attributes\":{\"data_source\":{\"id\":\"1454\",\"type\":\"ColumnDataSource\"},\"glyph\":{\"id\":\"1455\",\"type\":\"MultiPolygons\"},\"hover_glyph\":null,\"muted_glyph\":null,\"nonselection_glyph\":{\"id\":\"1456\",\"type\":\"MultiPolygons\"},\"selection_glyph\":null,\"view\":{\"id\":\"1458\",\"type\":\"CDSView\"}},\"id\":\"1457\",\"type\":\"GlyphRenderer\"},{\"attributes\":{\"callback\":null},\"id\":\"1441\",\"type\":\"HoverTool\"},{\"attributes\":{\"callback\":null},\"id\":\"1442\",\"type\":\"TapTool\"},{\"attributes\":{},\"id\":\"1498\",\"type\":\"Selection\"},{\"attributes\":{},\"id\":\"1443\",\"type\":\"WheelZoomTool\"},{\"attributes\":{},\"id\":\"1444\",\"type\":\"PanTool\"},{\"attributes\":{\"callback\":null,\"data\":{\"fill_color\":[\"blue\",\"red\"],\"line_color\":[\"blue\",\"red\"],\"xs\":[[[[1,1,2,2],[1.2,1.6,1.6],[1.8,1.8,1.6]],[[3,3,4]]],[[[1,2,2,1],[1.3,1.3,1.7,1.7]]]],\"ys\":[[[[4,3,3,4],[3.2,3.2,3.6],[3.4,3.8,3.8]],[[1,3,1]]],[[[1,1,2,2],[1.3,1.7,1.7,1.3]]]]},\"selected\":{\"id\":\"1498\",\"type\":\"Selection\"},\"selection_policy\":{\"id\":\"1497\",\"type\":\"UnionRenderers\"}},\"id\":\"1454\",\"type\":\"ColumnDataSource\"},{\"attributes\":{},\"id\":\"1446\",\"type\":\"HelpTool\"},{\"attributes\":{\"callback\":null},\"id\":\"1423\",\"type\":\"DataRange1d\"}],\"root_ids\":[\"1422\"]},\"title\":\"Bokeh Application\",\"version\":\"1.0.4\"}};\n",
       "  var render_items = [{\"docid\":\"c9719d05-4a98-466c-8379-92d4d2827c17\",\"roots\":{\"1422\":\"9c55fdcc-e089-4571-841e-5e4d7a4edff8\"}}];\n",
       "  root.Bokeh.embed.embed_items_notebook(docs_json, render_items);\n",
       "\n",
       "  }\n",
       "  if (root.Bokeh !== undefined) {\n",
       "    embed_document(root);\n",
       "  } else {\n",
       "    var attempts = 0;\n",
       "    var timer = setInterval(function(root) {\n",
       "      if (root.Bokeh !== undefined) {\n",
       "        embed_document(root);\n",
       "        clearInterval(timer);\n",
       "      }\n",
       "      attempts++;\n",
       "      if (attempts > 100) {\n",
       "        console.log(\"Bokeh: ERROR: Unable to run BokehJS code because BokehJS library is missing\");\n",
       "        clearInterval(timer);\n",
       "      }\n",
       "    }, 10, root)\n",
       "  }\n",
       "})(window);"
      ],
      "application/vnd.bokehjs_exec.v0+json": ""
     },
     "metadata": {
      "application/vnd.bokehjs_exec.v0+json": {
       "id": "1422"
      }
     },
     "output_type": "display_data"
    }
   ],
   "source": [
    "p = figure(plot_width=300, plot_height=300, tools='hover,tap,wheel_zoom,pan,reset,help')\n",
    "p.multi_polygons(\n",
    "    xs=[\n",
    "        [[ [1, 1, 2, 2], [1.2, 1.6, 1.6], [1.8, 1.8, 1.6] ], [ [3, 3, 4] ]],\n",
    "        [[ [1, 2, 2, 1], [1.3, 1.3, 1.7, 1.7] ]]],\n",
    "    ys=[\n",
    "        [[ [4, 3, 3, 4], [3.2, 3.2, 3.6], [3.4, 3.8, 3.8] ], [ [1, 3, 1] ]],\n",
    "        [[ [1, 1, 2, 2], [1.3, 1.7, 1.7, 1.3] ]]],\n",
    "    color=['blue', 'red'])\n",
    "show(p)"
   ]
  },
  {
   "cell_type": "markdown",
   "metadata": {},
   "source": [
    "### Using MultiPolygons glyph directly"
   ]
  },
  {
   "cell_type": "code",
   "execution_count": 7,
   "metadata": {},
   "outputs": [],
   "source": [
    "from bokeh.models import ColumnDataSource, Plot, LinearAxis, Grid\n",
    "from bokeh.models.glyphs import MultiPolygons\n",
    "from bokeh.models.tools import TapTool, WheelZoomTool, ResetTool, HoverTool"
   ]
  },
  {
   "cell_type": "code",
   "execution_count": 8,
   "metadata": {},
   "outputs": [],
   "source": [
    "source = ColumnDataSource(dict(\n",
    "    xs=[\n",
    "        [\n",
    "            [ \n",
    "                [1, 1, 2, 2], \n",
    "                [1.2, 1.6, 1.6], \n",
    "                [1.8, 1.8, 1.6] \n",
    "            ], \n",
    "            [ \n",
    "                [3, 3, 4] \n",
    "            ]\n",
    "        ],\n",
    "        [\n",
    "            [ \n",
    "                [1, 2, 2, 1], \n",
    "                [1.3, 1.3, 1.7, 1.7] \n",
    "            ]\n",
    "        ]\n",
    "    ],\n",
    "    ys=[\n",
    "        [\n",
    "            [ \n",
    "                [4, 3, 3, 4], \n",
    "                [3.2, 3.2, 3.6], \n",
    "                [3.4, 3.8, 3.8] \n",
    "            ], \n",
    "            [ \n",
    "                [1, 3, 1] \n",
    "            ]\n",
    "        ],\n",
    "        [\n",
    "            [ \n",
    "                [1, 1, 2, 2], \n",
    "                [1.3, 1.7, 1.7, 1.3] \n",
    "            ]\n",
    "        ]\n",
    "    ],\n",
    "    color=[\"blue\", \"red\"],\n",
    "    label=[\"A\", \"B\"]\n",
    "))"
   ]
  },
  {
   "cell_type": "markdown",
   "metadata": {},
   "source": [
    "By looking at the dataframe for this `ColumnDataSource` object, we can see that each `MultiPolygon` is represented by one row. "
   ]
  },
  {
   "cell_type": "code",
   "execution_count": 9,
   "metadata": {},
   "outputs": [
    {
     "data": {
      "text/html": [
       "<div>\n",
       "<style scoped>\n",
       "    .dataframe tbody tr th:only-of-type {\n",
       "        vertical-align: middle;\n",
       "    }\n",
       "\n",
       "    .dataframe tbody tr th {\n",
       "        vertical-align: top;\n",
       "    }\n",
       "\n",
       "    .dataframe thead th {\n",
       "        text-align: right;\n",
       "    }\n",
       "</style>\n",
       "<table border=\"1\" class=\"dataframe\">\n",
       "  <thead>\n",
       "    <tr style=\"text-align: right;\">\n",
       "      <th></th>\n",
       "      <th>xs</th>\n",
       "      <th>ys</th>\n",
       "      <th>color</th>\n",
       "      <th>label</th>\n",
       "    </tr>\n",
       "  </thead>\n",
       "  <tbody>\n",
       "    <tr>\n",
       "      <th>0</th>\n",
       "      <td>[[[1, 1, 2, 2], [1.2, 1.6, 1.6], [1.8, 1.8, 1....</td>\n",
       "      <td>[[[4, 3, 3, 4], [3.2, 3.2, 3.6], [3.4, 3.8, 3....</td>\n",
       "      <td>blue</td>\n",
       "      <td>A</td>\n",
       "    </tr>\n",
       "    <tr>\n",
       "      <th>1</th>\n",
       "      <td>[[[1, 2, 2, 1], [1.3, 1.3, 1.7, 1.7]]]</td>\n",
       "      <td>[[[1, 1, 2, 2], [1.3, 1.7, 1.7, 1.3]]]</td>\n",
       "      <td>red</td>\n",
       "      <td>B</td>\n",
       "    </tr>\n",
       "  </tbody>\n",
       "</table>\n",
       "</div>"
      ],
      "text/plain": [
       "                                                  xs  \\\n",
       "0  [[[1, 1, 2, 2], [1.2, 1.6, 1.6], [1.8, 1.8, 1....   \n",
       "1             [[[1, 2, 2, 1], [1.3, 1.3, 1.7, 1.7]]]   \n",
       "\n",
       "                                                  ys color label  \n",
       "0  [[[4, 3, 3, 4], [3.2, 3.2, 3.6], [3.4, 3.8, 3....  blue     A  \n",
       "1             [[[1, 1, 2, 2], [1.3, 1.7, 1.7, 1.3]]]   red     B  "
      ]
     },
     "execution_count": 9,
     "metadata": {},
     "output_type": "execute_result"
    }
   ],
   "source": [
    "source.to_df()"
   ]
  },
  {
   "cell_type": "code",
   "execution_count": 10,
   "metadata": {},
   "outputs": [
    {
     "data": {
      "text/html": [
       "\n",
       "\n",
       "\n",
       "\n",
       "\n",
       "\n",
       "  <div class=\"bk-root\" id=\"ea4fe1d4-8102-4adb-a8af-d85f0f3d5a45\" data-root-id=\"1551\"></div>\n"
      ]
     },
     "metadata": {},
     "output_type": "display_data"
    },
    {
     "data": {
      "application/javascript": [
       "(function(root) {\n",
       "  function embed_document(root) {\n",
       "    \n",
       "  var docs_json = {\"334ece8a-7162-4efe-b647-f4750a8b13f5\":{\"roots\":{\"references\":[{\"attributes\":{\"below\":[{\"id\":\"1556\",\"type\":\"LinearAxis\"}],\"left\":[{\"id\":\"1557\",\"type\":\"LinearAxis\"}],\"plot_height\":300,\"plot_width\":300,\"renderers\":[{\"id\":\"1554\",\"type\":\"GlyphRenderer\"},{\"id\":\"1556\",\"type\":\"LinearAxis\"},{\"id\":\"1557\",\"type\":\"LinearAxis\"},{\"id\":\"1559\",\"type\":\"Grid\"},{\"id\":\"1561\",\"type\":\"Grid\"}],\"title\":{\"id\":\"1606\",\"type\":\"Title\"},\"toolbar\":{\"id\":\"1552\",\"type\":\"Toolbar\"},\"x_range\":{\"id\":\"1603\",\"type\":\"DataRange1d\"},\"x_scale\":{\"id\":\"1605\",\"type\":\"LinearScale\"},\"y_range\":{\"id\":\"1607\",\"type\":\"DataRange1d\"},\"y_scale\":{\"id\":\"1602\",\"type\":\"LinearScale\"}},\"id\":\"1551\",\"type\":\"Plot\"},{\"attributes\":{},\"id\":\"1558\",\"type\":\"BasicTicker\"},{\"attributes\":{\"plot\":{\"id\":\"1551\",\"type\":\"Plot\"},\"ticker\":{\"id\":\"1558\",\"type\":\"BasicTicker\"}},\"id\":\"1559\",\"type\":\"Grid\"},{\"attributes\":{\"callback\":null,\"data\":{\"color\":[\"blue\",\"red\"],\"label\":[\"A\",\"B\"],\"xs\":[[[[1,1,2,2],[1.2,1.6,1.6],[1.8,1.8,1.6]],[[3,3,4]]],[[[1,2,2,1],[1.3,1.3,1.7,1.7]]]],\"ys\":[[[[4,3,3,4],[3.2,3.2,3.6],[3.4,3.8,3.8]],[[1,3,1]]],[[[1,1,2,2],[1.3,1.7,1.7,1.3]]]]},\"selected\":{\"id\":\"1613\",\"type\":\"Selection\"},\"selection_policy\":{\"id\":\"1612\",\"type\":\"UnionRenderers\"}},\"id\":\"1547\",\"type\":\"ColumnDataSource\"},{\"attributes\":{},\"id\":\"1602\",\"type\":\"LinearScale\"},{\"attributes\":{\"dimension\":1,\"plot\":{\"id\":\"1551\",\"type\":\"Plot\"},\"ticker\":{\"id\":\"1560\",\"type\":\"BasicTicker\"}},\"id\":\"1561\",\"type\":\"Grid\"},{\"attributes\":{\"callback\":null},\"id\":\"1603\",\"type\":\"DataRange1d\"},{\"attributes\":{},\"id\":\"1605\",\"type\":\"LinearScale\"},{\"attributes\":{\"plot\":null,\"text\":\"\"},\"id\":\"1606\",\"type\":\"Title\"},{\"attributes\":{\"callback\":null},\"id\":\"1607\",\"type\":\"DataRange1d\"},{\"attributes\":{\"callback\":null,\"tooltips\":[[\"Label\",\"@label\"]]},\"id\":\"1548\",\"type\":\"HoverTool\"},{\"attributes\":{\"callback\":null},\"id\":\"1549\",\"type\":\"TapTool\"},{\"attributes\":{},\"id\":\"1608\",\"type\":\"BasicTickFormatter\"},{\"attributes\":{\"fill_color\":{\"field\":\"color\"},\"xs\":{\"field\":\"xs\"},\"ys\":{\"field\":\"ys\"}},\"id\":\"1553\",\"type\":\"MultiPolygons\"},{\"attributes\":{},\"id\":\"1610\",\"type\":\"BasicTickFormatter\"},{\"attributes\":{},\"id\":\"1550\",\"type\":\"WheelZoomTool\"},{\"attributes\":{},\"id\":\"1612\",\"type\":\"UnionRenderers\"},{\"attributes\":{},\"id\":\"1613\",\"type\":\"Selection\"},{\"attributes\":{\"active_drag\":\"auto\",\"active_inspect\":\"auto\",\"active_multi\":null,\"active_scroll\":\"auto\",\"active_tap\":\"auto\",\"tools\":[{\"id\":\"1548\",\"type\":\"HoverTool\"},{\"id\":\"1549\",\"type\":\"TapTool\"},{\"id\":\"1550\",\"type\":\"WheelZoomTool\"}]},\"id\":\"1552\",\"type\":\"Toolbar\"},{\"attributes\":{\"data_source\":{\"id\":\"1547\",\"type\":\"ColumnDataSource\"},\"glyph\":{\"id\":\"1553\",\"type\":\"MultiPolygons\"},\"hover_glyph\":null,\"muted_glyph\":null,\"view\":{\"id\":\"1555\",\"type\":\"CDSView\"}},\"id\":\"1554\",\"type\":\"GlyphRenderer\"},{\"attributes\":{\"formatter\":{\"id\":\"1608\",\"type\":\"BasicTickFormatter\"},\"plot\":{\"id\":\"1551\",\"type\":\"Plot\"},\"ticker\":{\"id\":\"1558\",\"type\":\"BasicTicker\"}},\"id\":\"1556\",\"type\":\"LinearAxis\"},{\"attributes\":{\"source\":{\"id\":\"1547\",\"type\":\"ColumnDataSource\"}},\"id\":\"1555\",\"type\":\"CDSView\"},{\"attributes\":{},\"id\":\"1560\",\"type\":\"BasicTicker\"},{\"attributes\":{\"formatter\":{\"id\":\"1610\",\"type\":\"BasicTickFormatter\"},\"plot\":{\"id\":\"1551\",\"type\":\"Plot\"},\"ticker\":{\"id\":\"1560\",\"type\":\"BasicTicker\"}},\"id\":\"1557\",\"type\":\"LinearAxis\"}],\"root_ids\":[\"1551\"]},\"title\":\"Bokeh Application\",\"version\":\"1.0.4\"}};\n",
       "  var render_items = [{\"docid\":\"334ece8a-7162-4efe-b647-f4750a8b13f5\",\"roots\":{\"1551\":\"ea4fe1d4-8102-4adb-a8af-d85f0f3d5a45\"}}];\n",
       "  root.Bokeh.embed.embed_items_notebook(docs_json, render_items);\n",
       "\n",
       "  }\n",
       "  if (root.Bokeh !== undefined) {\n",
       "    embed_document(root);\n",
       "  } else {\n",
       "    var attempts = 0;\n",
       "    var timer = setInterval(function(root) {\n",
       "      if (root.Bokeh !== undefined) {\n",
       "        embed_document(root);\n",
       "        clearInterval(timer);\n",
       "      }\n",
       "      attempts++;\n",
       "      if (attempts > 100) {\n",
       "        console.log(\"Bokeh: ERROR: Unable to run BokehJS code because BokehJS library is missing\");\n",
       "        clearInterval(timer);\n",
       "      }\n",
       "    }, 10, root)\n",
       "  }\n",
       "})(window);"
      ],
      "application/vnd.bokehjs_exec.v0+json": ""
     },
     "metadata": {
      "application/vnd.bokehjs_exec.v0+json": {
       "id": "1551"
      }
     },
     "output_type": "display_data"
    }
   ],
   "source": [
    "hover = HoverTool(tooltips=[(\"Label\", \"@label\")])\n",
    "plot = Plot(plot_width=300, plot_height=300, tools=[hover, TapTool(), WheelZoomTool()])\n",
    "\n",
    "glyph = MultiPolygons(xs=\"xs\", ys=\"ys\", fill_color='color')\n",
    "plot.add_glyph(source, glyph)\n",
    "\n",
    "xaxis = LinearAxis()\n",
    "plot.add_layout(xaxis, 'below')\n",
    "\n",
    "yaxis = LinearAxis()\n",
    "plot.add_layout(yaxis, 'left')\n",
    "\n",
    "plot.add_layout(Grid(dimension=0, ticker=xaxis.ticker))\n",
    "plot.add_layout(Grid(dimension=1, ticker=yaxis.ticker))\n",
    "\n",
    "show(plot)"
   ]
  },
  {
   "cell_type": "markdown",
   "metadata": {},
   "source": [
    "### Using numpy arrays with MultiPolygons\n",
    "Numpy arrays can be used instead of python native lists. In the following example, we'll generate concentric circles and used them to make rings. Similar methods could be used to generate contours. "
   ]
  },
  {
   "cell_type": "code",
   "execution_count": 11,
   "metadata": {},
   "outputs": [],
   "source": [
    "import numpy as np\n",
    "\n",
    "from bokeh.palettes import Viridis10 as palette"
   ]
  },
  {
   "cell_type": "code",
   "execution_count": 12,
   "metadata": {},
   "outputs": [],
   "source": [
    "def circle(radius):\n",
    "    angles = np.linspace(0, 2*np.pi, 100)\n",
    "    return {'x': radius*np.sin(angles), 'y': radius*np.cos(angles), 'radius': radius}"
   ]
  },
  {
   "cell_type": "code",
   "execution_count": 13,
   "metadata": {},
   "outputs": [],
   "source": [
    "radii = np.geomspace(1, 100, 10)\n",
    "source = dict(xs=[], \n",
    "              ys=[], \n",
    "              color=[palette[i] for i in range(10)], \n",
    "              outer_radius=radii)\n",
    "\n",
    "for i, r in enumerate(radii):\n",
    "    exterior = circle(r)\n",
    "    if i == 0:\n",
    "        polygon_xs = [exterior['x']]\n",
    "        polygon_ys = [exterior['y']]\n",
    "    else:\n",
    "        hole = circle(radii[i-1])\n",
    "\n",
    "        polygon_xs = [exterior['x'], hole['x']]\n",
    "        polygon_ys = [exterior['y'], hole['y']]\n",
    "\n",
    "    source['xs'].append([polygon_xs])\n",
    "    source['ys'].append([polygon_ys])"
   ]
  },
  {
   "cell_type": "code",
   "execution_count": 14,
   "metadata": {},
   "outputs": [
    {
     "data": {
      "text/html": [
       "\n",
       "\n",
       "\n",
       "\n",
       "\n",
       "\n",
       "  <div class=\"bk-root\" id=\"42424982-ecf5-4a9f-8a4c-bb50bdf3770a\" data-root-id=\"1700\"></div>\n"
      ]
     },
     "metadata": {},
     "output_type": "display_data"
    },
    {
     "data": {
      "application/javascript": [
       "(function(root) {\n",
       "  function embed_document(root) {\n",
       "    \n",
       "  var docs_json = {\"c6cd6daf-b0f7-47e4-ba52-bd42a94166e3\":{\"roots\":{\"references\":[{\"attributes\":{\"below\":[{\"id\":\"1709\",\"type\":\"LinearAxis\"}],\"left\":[{\"id\":\"1714\",\"type\":\"LinearAxis\"}],\"plot_height\":300,\"plot_width\":300,\"renderers\":[{\"id\":\"1709\",\"type\":\"LinearAxis\"},{\"id\":\"1713\",\"type\":\"Grid\"},{\"id\":\"1714\",\"type\":\"LinearAxis\"},{\"id\":\"1718\",\"type\":\"Grid\"},{\"id\":\"1736\",\"type\":\"GlyphRenderer\"}],\"title\":{\"id\":\"1791\",\"type\":\"Title\"},\"toolbar\":{\"id\":\"1725\",\"type\":\"Toolbar\"},\"x_range\":{\"id\":\"1701\",\"type\":\"DataRange1d\"},\"x_scale\":{\"id\":\"1705\",\"type\":\"LinearScale\"},\"y_range\":{\"id\":\"1703\",\"type\":\"DataRange1d\"},\"y_scale\":{\"id\":\"1707\",\"type\":\"LinearScale\"}},\"id\":\"1700\",\"subtype\":\"Figure\",\"type\":\"Plot\"},{\"attributes\":{\"formatter\":{\"id\":\"1794\",\"type\":\"BasicTickFormatter\"},\"plot\":{\"id\":\"1700\",\"subtype\":\"Figure\",\"type\":\"Plot\"},\"ticker\":{\"id\":\"1715\",\"type\":\"BasicTicker\"}},\"id\":\"1714\",\"type\":\"LinearAxis\"},{\"attributes\":{},\"id\":\"1797\",\"type\":\"Selection\"},{\"attributes\":{},\"id\":\"1794\",\"type\":\"BasicTickFormatter\"},{\"attributes\":{},\"id\":\"1723\",\"type\":\"ResetTool\"},{\"attributes\":{},\"id\":\"1715\",\"type\":\"BasicTicker\"},{\"attributes\":{\"fill_color\":{\"field\":\"color\"},\"line_color\":{\"value\":\"#1f77b4\"},\"xs\":{\"field\":\"xs\"},\"ys\":{\"field\":\"ys\"}},\"id\":\"1734\",\"type\":\"MultiPolygons\"},{\"attributes\":{\"dimension\":1,\"plot\":{\"id\":\"1700\",\"subtype\":\"Figure\",\"type\":\"Plot\"},\"ticker\":{\"id\":\"1715\",\"type\":\"BasicTicker\"}},\"id\":\"1718\",\"type\":\"Grid\"},{\"attributes\":{},\"id\":\"1710\",\"type\":\"BasicTicker\"},{\"attributes\":{},\"id\":\"1707\",\"type\":\"LinearScale\"},{\"attributes\":{\"plot\":{\"id\":\"1700\",\"subtype\":\"Figure\",\"type\":\"Plot\"},\"ticker\":{\"id\":\"1710\",\"type\":\"BasicTicker\"}},\"id\":\"1713\",\"type\":\"Grid\"},{\"attributes\":{},\"id\":\"1792\",\"type\":\"BasicTickFormatter\"},{\"attributes\":{\"formatter\":{\"id\":\"1792\",\"type\":\"BasicTickFormatter\"},\"plot\":{\"id\":\"1700\",\"subtype\":\"Figure\",\"type\":\"Plot\"},\"ticker\":{\"id\":\"1710\",\"type\":\"BasicTicker\"}},\"id\":\"1709\",\"type\":\"LinearAxis\"},{\"attributes\":{\"callback\":null,\"tooltips\":[[\"Outer Radius\",\"@outer_radius\"]]},\"id\":\"1719\",\"type\":\"HoverTool\"},{\"attributes\":{\"callback\":null},\"id\":\"1720\",\"type\":\"TapTool\"},{\"attributes\":{},\"id\":\"1721\",\"type\":\"WheelZoomTool\"},{\"attributes\":{},\"id\":\"1722\",\"type\":\"PanTool\"},{\"attributes\":{},\"id\":\"1705\",\"type\":\"LinearScale\"},{\"attributes\":{},\"id\":\"1724\",\"type\":\"HelpTool\"},{\"attributes\":{\"active_drag\":\"auto\",\"active_inspect\":\"auto\",\"active_multi\":null,\"active_scroll\":\"auto\",\"active_tap\":\"auto\",\"tools\":[{\"id\":\"1719\",\"type\":\"HoverTool\"},{\"id\":\"1720\",\"type\":\"TapTool\"},{\"id\":\"1721\",\"type\":\"WheelZoomTool\"},{\"id\":\"1722\",\"type\":\"PanTool\"},{\"id\":\"1723\",\"type\":\"ResetTool\"},{\"id\":\"1724\",\"type\":\"HelpTool\"}]},\"id\":\"1725\",\"type\":\"Toolbar\"},{\"attributes\":{\"fill_alpha\":{\"value\":0.1},\"fill_color\":{\"value\":\"#1f77b4\"},\"line_alpha\":{\"value\":0.1},\"line_color\":{\"value\":\"#1f77b4\"},\"xs\":{\"field\":\"xs\"},\"ys\":{\"field\":\"ys\"}},\"id\":\"1735\",\"type\":\"MultiPolygons\"},{\"attributes\":{\"source\":{\"id\":\"1732\",\"type\":\"ColumnDataSource\"}},\"id\":\"1737\",\"type\":\"CDSView\"},{\"attributes\":{\"callback\":null},\"id\":\"1703\",\"type\":\"DataRange1d\"},{\"attributes\":{\"callback\":null,\"data\":{\"color\":[\"#440154\",\"#472777\",\"#3E4989\",\"#30678D\",\"#25828E\",\"#1E9C89\",\"#35B778\",\"#6BCD59\",\"#B2DD2C\",\"#FDE724\"],\"outer_radius\":{\"__ndarray__\":\"AAAAAAAA8D+1bVswirD6P1pB/YCuQgZA92HHqfyQEkCm1s/JdfgeQEH5F/q71ClAYYyGUVqLNUBGy4HcFPhBQLBYz/1l+U1AAAAAAAAAWUA=\",\"dtype\":\"float64\",\"shape\":[10]},\"xs\":[[[{\"__ndarray__\":\"AAAAAAAAAAADhrXMjDywP/CDAnguNMA/kayggGI5yD+aiNkBzxLQP9ofIiFb+NM/+5MNU1HJ1z+CQNqEwoHbPxlNPurYHd8/C1i7+O1M4T9GhZoMGvniPxwWPFK3keQ/ABg/lCAV5j+GGZN4xoHnP4hAIRwx1ug/lkFFlgER6j93zoZi8zDrPzKcHq/dNOw/EyzujrQb7T/B8a4NiuTtP/0jPCWPju4/3176khQZ7z8XHIGMi4PvPzTGy1KGze8/g6xao7j27z/vOc8G+P7vP2Zmsvw75u8/70I4BJ6s7z+/l/eBWVLvPwOssILL1+4/xVNiW3I97j+TIxAn7YPtP1EHwCL7q+w/qUxY6Hq26z+RVimJaaTqP5aCD4nhduk/oSg6uxkv6D+158MBZM7mP9OHZvErVuU/8XixWvXH4z8mRkW6WiXiP2ITsJELcOA/8qg+VZVT3T/agWKM2KjZP/gLinSo49U/v412/ecH0j/lKaSyIjPMP+bENsZjOcQ/3FNHxZdVuD+s23zJpD6gP8nbfMmkPqC/6lNHxZdVuL/txDbGYznEv9wppLIiM8y/wo12/ecH0r/0C4p0qOPVv92BYozYqNm/7qg+VZVT3b9jE7CRC3DgvyRGRbpaJeK/83ixWvXH47/Rh2bxK1blv7fnwwFkzua/oCg6uxkv6L+Xgg+J4Xbpv5BWKYlppOq/rExY6Hq2679SB8Ai+6vsv5MjECftg+2/xFNiW3I97r8ErLCCy9fuv7+X94FZUu+/70I4BJ6s779lZrL8O+bvv+85zwb4/u+/g6xao7j27780xstShs3vvxgcgYyLg++/3176khQZ77/9Izwlj47uv8Lxrg2K5O2/EizujrQb7b8xnB6v3TTsv3fOhmLzMOu/l0FFlgER6r+GQCEcMdbov4UZk3jGgee/ABg/lCAV5r8fFjxSt5Hkv0SFmgwa+eK/Cli7+O1M4b8bTT7q2B3fv4dA2oTCgdu/9ZMNU1HJ17/ZHyIhW/jTv52I2QHPEtC/gKyggGI5yL/ogwJ4LjTAvwSGtcyMPLC/B1wUMyamsbw=\",\"dtype\":\"float64\",\"shape\":[100]}]],[[{\"__ndarray__\":\"AAAAAAAAAABAmsMUixW7P3IgNnWVB8s/nRRaQkQ01D8CjeMa6s/aP9+LWD32p+A/HXnkCszW4z/QHPSCLvHmP2cUGMfq8+k/PqOuWebb7D8CIt5QIqbvP/UGkTbfJ/E/fOYdCP5q8j8cabyIIJvzP43EMTYNt/Q/WZaNY5+99T+WI9xmyK32PwjuJ7CQhvc/kAOryBhH+D8a+Sg5mu74P3gdhFZofPk/wwC78/Dv+T9M1pb4vEj6P9Vdb9xwhvo/fseFBM2o+j/7TpUFrq/6Pzr4VcgMm/o/hMrLkP5q+j9dAVvotB/6P7vLt2p9ufk/5zzmdcE4+T825py9BZ74PwgQesLp6fc/OJSYLScd9z9l1i0RkTj2Pyci9g4TPfU/wLdPZbAr9D956P7jggXzP267rsm5y/E/9Y1Zi5h/8D+l07cN60TuP4+JEkRxa+s/v+tcr7N16D+nmQBov2blP7CeC4S7QeI/Hml0rssT3j950R43H4XXPzXS3As03tA/sGnrKMtLxD9FTnkpCRmrP3VOeSkJGau/vGnrKMtLxL870twLNN7Qv3HRHjcfhde/I2l0rssT3r+snguEu0Hiv6mZAGi/ZuW/vOtcr7N16L+RiRJEcWvrv6LTtw3rRO6/941Zi5h/8L9su67Jucvxv3vo/uOCBfO/v7dPZbAr9L8oIvYOEz31v2TWLRGROPa/O5SYLScd978JEHrC6en3vzbmnL0Fnvi/5zzmdcE4+b+8y7dqfbn5v10BW+i0H/q/hMrLkP5q+r85+FXIDJv6v/tOlQWur/q/fseFBM2o+r/VXW/ccIb6v03Wlvi8SPq/wwC78/Dv+b94HYRWaHz5vxr5KDma7vi/jwOryBhH+L8I7iewkIb3v5Yj3GbIrfa/WZaNY5+99b+LxDE2Dbf0vxtpvIggm/O/fOYdCP5q8r/3BpE23yfxv/8h3lAipu+/PKOuWebb7L9pFBjH6vPpv9Qc9IIu8ea/GHnkCszW47/ei1g99qfgvweN4xrqz9q/jxRaQkQ01L9lIDZ1lQfLv0GawxSLFbu/pbqTJbpwvbw=\",\"dtype\":\"float64\",\"shape\":[100]},{\"__ndarray__\":\"AAAAAAAAAAADhrXMjDywP/CDAnguNMA/kayggGI5yD+aiNkBzxLQP9ofIiFb+NM/+5MNU1HJ1z+CQNqEwoHbPxlNPurYHd8/C1i7+O1M4T9GhZoMGvniPxwWPFK3keQ/ABg/lCAV5j+GGZN4xoHnP4hAIRwx1ug/lkFFlgER6j93zoZi8zDrPzKcHq/dNOw/EyzujrQb7T/B8a4NiuTtP/0jPCWPju4/3176khQZ7z8XHIGMi4PvPzTGy1KGze8/g6xao7j27z/vOc8G+P7vP2Zmsvw75u8/70I4BJ6s7z+/l/eBWVLvPwOssILL1+4/xVNiW3I97j+TIxAn7YPtP1EHwCL7q+w/qUxY6Hq26z+RVimJaaTqP5aCD4nhduk/oSg6uxkv6D+158MBZM7mP9OHZvErVuU/8XixWvXH4z8mRkW6WiXiP2ITsJELcOA/8qg+VZVT3T/agWKM2KjZP/gLinSo49U/v412/ecH0j/lKaSyIjPMP+bENsZjOcQ/3FNHxZdVuD+s23zJpD6gP8nbfMmkPqC/6lNHxZdVuL/txDbGYznEv9wppLIiM8y/wo12/ecH0r/0C4p0qOPVv92BYozYqNm/7qg+VZVT3b9jE7CRC3DgvyRGRbpaJeK/83ixWvXH47/Rh2bxK1blv7fnwwFkzua/oCg6uxkv6L+Xgg+J4Xbpv5BWKYlppOq/rExY6Hq2679SB8Ai+6vsv5MjECftg+2/xFNiW3I97r8ErLCCy9fuv7+X94FZUu+/70I4BJ6s779lZrL8O+bvv+85zwb4/u+/g6xao7j27780xstShs3vvxgcgYyLg++/3176khQZ77/9Izwlj47uv8Lxrg2K5O2/EizujrQb7b8xnB6v3TTsv3fOhmLzMOu/l0FFlgER6r+GQCEcMdbov4UZk3jGgee/ABg/lCAV5r8fFjxSt5Hkv0SFmgwa+eK/Cli7+O1M4b8bTT7q2B3fv4dA2oTCgdu/9ZMNU1HJ17/ZHyIhW/jTv52I2QHPEtC/gKyggGI5yL/ogwJ4LjTAvwSGtcyMPLC/B1wUMyamsbw=\",\"dtype\":\"float64\",\"shape\":[100]}]],[[{\"__ndarray__\":\"AAAAAAAAAABsnaZz7JbGP/THzd5Hi9Y/n55ELe7Z4D9k1JKG2VzmP56SVZO3yOs/41pg1/iL8D8LffpchyLzP2MWJ2BcpfU/stW4O+ER+D+G3rhKlmX6P0fDwnsVnvw/WB4DyhS5/j9+JKZMNFoAQIU+afkCRwFAEH8gUAIiAkDPS36RUOoCQAtVxkIfnwNAcIOlArQ/BECV5VFJacsEQFeRLBOvQQVA55Q1dQuiBUAt8LgaG+wFQO0Js6uRHwZAUxSDGzo8BkCPQZrf9kEGQMZp7w3CMAZAgr4XY60IBkDBQv4v4skFQG7gTC+hdAVASgKzQkIJBUAUek4YNIgEQN0UlLj78QNAKHkt/TNHA0AHq1nxjIgCQBXBdBzLtgFAo9pht8bSAECpVlCb1br/Pza8UZZor/0/ISLP7mGF+z+CVuS+/D75P7psDV+R3vY/9VJN+5Jm9D9SNa0MjdnxPyg6XnNBdO4/7hbQQAQW6T9tsxka653jP4I4RX8yI9w/9yIolI3t0D94JwEp1pm2P6AnASnWmba/ASMolI3t0L+MOEV/MiPcv2azGRrrneO/8hbQQAQW6b8iOl5zQXTuv1Q1rQyN2fG/81JN+5Jm9L+7bA1fkd72v39W5L78Pvm/JCLP7mGF+78zvFGWaK/9v6xWUJvVuv+/otpht8bSAMAWwXQcy7YBwAarWfGMiALAKnkt/TNHA8DeFJS4+/EDwBR6Thg0iATASgKzQkIJBcBv4EwvoXQFwMFC/i/iyQXAgr4XY60IBsDFae8NwjAGwI9Bmt/2QQbAUxSDGzo8BsDtCbOrkR8GwC7wuBob7AXA55Q1dQuiBcBXkSwTr0EFwJblUUlpywTAcIOlArQ/BMAKVcZCH58DwM9LfpFQ6gLAEX8gUAIiAsCEPmn5AkcBwH0kpkw0WgDAWB4DyhS5/r9Mw8J7FZ78v4PeuEqWZfq/sdW4O+ER+L9kFidgXKX1vw99+lyHIvO/3lpg1/iL8L+cklWTt8jrv2jUkobZXOa/k55ELe7Z4L/ox83eR4vWv26dpnPslsa/7qr2YAKOyLw=\",\"dtype\":\"float64\",\"shape\":[100]},{\"__ndarray__\":\"AAAAAAAAAABAmsMUixW7P3IgNnWVB8s/nRRaQkQ01D8CjeMa6s/aP9+LWD32p+A/HXnkCszW4z/QHPSCLvHmP2cUGMfq8+k/PqOuWebb7D8CIt5QIqbvP/UGkTbfJ/E/fOYdCP5q8j8cabyIIJvzP43EMTYNt/Q/WZaNY5+99T+WI9xmyK32PwjuJ7CQhvc/kAOryBhH+D8a+Sg5mu74P3gdhFZofPk/wwC78/Dv+T9M1pb4vEj6P9Vdb9xwhvo/fseFBM2o+j/7TpUFrq/6Pzr4VcgMm/o/hMrLkP5q+j9dAVvotB/6P7vLt2p9ufk/5zzmdcE4+T825py9BZ74PwgQesLp6fc/OJSYLScd9z9l1i0RkTj2Pyci9g4TPfU/wLdPZbAr9D956P7jggXzP267rsm5y/E/9Y1Zi5h/8D+l07cN60TuP4+JEkRxa+s/v+tcr7N16D+nmQBov2blP7CeC4S7QeI/Hml0rssT3j950R43H4XXPzXS3As03tA/sGnrKMtLxD9FTnkpCRmrP3VOeSkJGau/vGnrKMtLxL870twLNN7Qv3HRHjcfhde/I2l0rssT3r+snguEu0Hiv6mZAGi/ZuW/vOtcr7N16L+RiRJEcWvrv6LTtw3rRO6/941Zi5h/8L9su67Jucvxv3vo/uOCBfO/v7dPZbAr9L8oIvYOEz31v2TWLRGROPa/O5SYLScd978JEHrC6en3vzbmnL0Fnvi/5zzmdcE4+b+8y7dqfbn5v10BW+i0H/q/hMrLkP5q+r85+FXIDJv6v/tOlQWur/q/fseFBM2o+r/VXW/ccIb6v03Wlvi8SPq/wwC78/Dv+b94HYRWaHz5vxr5KDma7vi/jwOryBhH+L8I7iewkIb3v5Yj3GbIrfa/WZaNY5+99b+LxDE2Dbf0vxtpvIggm/O/fOYdCP5q8r/3BpE23yfxv/8h3lAipu+/PKOuWebb7L9pFBjH6vPpv9Qc9IIu8ea/GHnkCszW47/ei1g99qfgvweN4xrqz9q/jxRaQkQ01L9lIDZ1lQfLv0GawxSLFbu/pbqTJbpwvbw=\",\"dtype\":\"float64\",\"shape\":[100]}]],[[{\"__ndarray__\":\"AAAAAAAAAABYFHK/P9fSP0XkB8uJzeI/kNAV0BEc7D95s/D7z6byP4/+8xRdLPc/SHGC+Aaa+z8uProLPev/P9jaBATGDQJA/I7JSFETBECkHE3VKgQGQHZ3sn9S3gdA0qcQg9+fCUAFQkh3AkcLQLf1sy4H0gxAusvHd1Y/DkBkl8/Ad40PQI32DU6JXRBAH72GEXjjEEDUYEgb/lcRQC3w302juhFAUHnC+QELEkDI6h5Gx0gSQFuVRIazcxJAwkZGe5qLEkApVJaBY5ASQJ+QbKoJghJAAwHcwJtgEkC6D5M6PCwSQCf4VRQh5RFA5AdYmpOLEUB/E60c8B8RQH8BIZClohBA7oLXGzUUEEBzwFMoY+oOQOstmMZ9jA1Ao5uqwCIQDECQlrMq2nYKQC8grOpJwghAYsl2BTT0BkAoAvzOdA4FQHrNJ/8AEwNAiP7CreMDAUAhHHhueMb9PzW8Fhl4Zvk/n5Xo4Ejs9D+uPO9IiFzwP8gvcx/Ud+c/EHQtWs083D9xW8W0rdnCP5NbxbSt2cK/IHQtWs083L/QL3Mf1Hfnv6k870iIXPC/opXo4Ejs9L8xvBYZeGb5vyUceG54xv2/hv7CreMDAcB7zSf/ABMDwCUC/M50DgXAZMl2BTT0BsAsIKzqScIIwJOWsyradgrAopuqwCIQDMDsLZjGfYwNwHLAUyhj6g7A8ILXGzUUEMB/ASGQpaIQwH8TrRzwHxHA4wdYmpOLEcAo+FUUIeURwLoPkzo8LBLAAwHcwJtgEsCekGyqCYISwClUloFjkBLAwkZGe5qLEsBblUSGs3MSwMnqHkbHSBLAUHnC+QELEsAt8N9No7oRwNVgSBv+VxHAHr2GEXjjEMCN9g1OiV0QwGSXz8B3jQ/Au8vHd1Y/DsC19bMuB9IMwARCSHcCRwvA0qcQg9+fCcB6d7J/Ut4HwKIcTdUqBAbA+47JSFETBMDZ2gQExg0CwDQ+ugs96/+/QnGC+Aaa+7+O/vMUXSz3v32z8PvPpvK/fdAV0BEc7L885AfLic3iv1kUcr8/19K/SyVjBdl61Lw=\",\"dtype\":\"float64\",\"shape\":[100]},{\"__ndarray__\":\"AAAAAAAAAABsnaZz7JbGP/THzd5Hi9Y/n55ELe7Z4D9k1JKG2VzmP56SVZO3yOs/41pg1/iL8D8LffpchyLzP2MWJ2BcpfU/stW4O+ER+D+G3rhKlmX6P0fDwnsVnvw/WB4DyhS5/j9+JKZMNFoAQIU+afkCRwFAEH8gUAIiAkDPS36RUOoCQAtVxkIfnwNAcIOlArQ/BECV5VFJacsEQFeRLBOvQQVA55Q1dQuiBUAt8LgaG+wFQO0Js6uRHwZAUxSDGzo8BkCPQZrf9kEGQMZp7w3CMAZAgr4XY60IBkDBQv4v4skFQG7gTC+hdAVASgKzQkIJBUAUek4YNIgEQN0UlLj78QNAKHkt/TNHA0AHq1nxjIgCQBXBdBzLtgFAo9pht8bSAECpVlCb1br/Pza8UZZor/0/ISLP7mGF+z+CVuS+/D75P7psDV+R3vY/9VJN+5Jm9D9SNa0MjdnxPyg6XnNBdO4/7hbQQAQW6T9tsxka653jP4I4RX8yI9w/9yIolI3t0D94JwEp1pm2P6AnASnWmba/ASMolI3t0L+MOEV/MiPcv2azGRrrneO/8hbQQAQW6b8iOl5zQXTuv1Q1rQyN2fG/81JN+5Jm9L+7bA1fkd72v39W5L78Pvm/JCLP7mGF+78zvFGWaK/9v6xWUJvVuv+/otpht8bSAMAWwXQcy7YBwAarWfGMiALAKnkt/TNHA8DeFJS4+/EDwBR6Thg0iATASgKzQkIJBcBv4EwvoXQFwMFC/i/iyQXAgr4XY60IBsDFae8NwjAGwI9Bmt/2QQbAUxSDGzo8BsDtCbOrkR8GwC7wuBob7AXA55Q1dQuiBcBXkSwTr0EFwJblUUlpywTAcIOlArQ/BMAKVcZCH58DwM9LfpFQ6gLAEX8gUAIiAsCEPmn5AkcBwH0kpkw0WgDAWB4DyhS5/r9Mw8J7FZ78v4PeuEqWZfq/sdW4O+ER+L9kFidgXKX1vw99+lyHIvO/3lpg1/iL8L+cklWTt8jrv2jUkobZXOa/k55ELe7Z4L/ox83eR4vWv26dpnPslsa/7qr2YAKOyLw=\",\"dtype\":\"float64\",\"shape\":[100]}]],[[{\"__ndarray__\":\"AAAAAAAAAADOg8oNqm3fPzCwPjt3Xe8/t22RPuJx9z/tXFsA3hz/P2KoT7PjUwNARcA0AmwFB0BjI/s/OZ8KQNx3EDaVHQ5AVPjY+3K+EEDTriHM2FwSQCHLVOBQ6BNA7k77j0NfFUCc2O1ZLsAWQK1xv3KlCRhAeXK/O1U6GUBa6g+hA1EaQJOrZ12RTBtAWD4yIvsrHECFetyiWu4cQEA+OoLnkh1AxYoQIfgYHkCEH+9MAoAeQFJWpc6bxx5A3Ge/13rvHkAVO5tOdvceQJ5SxviF3x5A1Ct5g8KnHkBRUSdqZVAeQGpZPrvI2R1AU+VQu2ZEHUA/Ug1n2ZAcQGgIgtTZvxtABghTdD/SGkAsYKUz/8gZQDh8pX8qpRhA5YmsK+5nF0Augic7kRIWQCF9f5BzphRAscteggwlE0DtwMhY6Y8RQE3+JWdX0Q9AEt/Mtw9iDED8TgcFhtUIQMioNNliLwVArncqImlzAUCWljGh5Er7P2EjdMDUkvM/7V6WMy+N5z8WJ/iKt3HPP04n+Iq3cc+/+l6WMy+N579oI3TA1JLzv46WMaHkSvu/sXcqImlzAcDEqDTZYi8FwP9OBwWG1QjADt/Mtw9iDMBP/iVnV9EPwOvAyFjpjxHAs8teggwlE8AffX+Qc6YUwDCCJzuREhbA5ImsK+5nF8A5fKV/KqUYwCtgpTP/yBnACQhTdD/SGsBpCILU2b8bwD9SDWfZkBzAUuVQu2ZEHcBrWT67yNkdwFFRJ2plUB7A1Ct5g8KnHsCdUsb4hd8ewBU7m0529x7A3Ge/13rvHsBSVqXOm8cewIUf70wCgB7AxYoQIfgYHsBAPjqC55IdwIZ63KJa7hzAVz4yIvsrHMCSq2ddkUwbwFrqD6EDURrAenK/O1U6GcCrcb9ypQkYwJvY7VkuwBbA7k77j0NfFcAky1TgUOgTwNGuIczYXBLAU/jY+3K+EMDedxA2lR0OwGgj+z85nwrAP8A0AmwFB8BhqE+z41MDwPJcWwDeHP+/p22RPuJx978hsD47d13vv9CDyg2qbd+/7d+4bswU4bw=\",\"dtype\":\"float64\",\"shape\":[100]},{\"__ndarray__\":\"AAAAAAAAAABYFHK/P9fSP0XkB8uJzeI/kNAV0BEc7D95s/D7z6byP4/+8xRdLPc/SHGC+Aaa+z8uProLPev/P9jaBATGDQJA/I7JSFETBECkHE3VKgQGQHZ3sn9S3gdA0qcQg9+fCUAFQkh3AkcLQLf1sy4H0gxAusvHd1Y/DkBkl8/Ad40PQI32DU6JXRBAH72GEXjjEEDUYEgb/lcRQC3w302juhFAUHnC+QELEkDI6h5Gx0gSQFuVRIazcxJAwkZGe5qLEkApVJaBY5ASQJ+QbKoJghJAAwHcwJtgEkC6D5M6PCwSQCf4VRQh5RFA5AdYmpOLEUB/E60c8B8RQH8BIZClohBA7oLXGzUUEEBzwFMoY+oOQOstmMZ9jA1Ao5uqwCIQDECQlrMq2nYKQC8grOpJwghAYsl2BTT0BkAoAvzOdA4FQHrNJ/8AEwNAiP7CreMDAUAhHHhueMb9PzW8Fhl4Zvk/n5Xo4Ejs9D+uPO9IiFzwP8gvcx/Ud+c/EHQtWs083D9xW8W0rdnCP5NbxbSt2cK/IHQtWs083L/QL3Mf1Hfnv6k870iIXPC/opXo4Ejs9L8xvBYZeGb5vyUceG54xv2/hv7CreMDAcB7zSf/ABMDwCUC/M50DgXAZMl2BTT0BsAsIKzqScIIwJOWsyradgrAopuqwCIQDMDsLZjGfYwNwHLAUyhj6g7A8ILXGzUUEMB/ASGQpaIQwH8TrRzwHxHA4wdYmpOLEcAo+FUUIeURwLoPkzo8LBLAAwHcwJtgEsCekGyqCYISwClUloFjkBLAwkZGe5qLEsBblUSGs3MSwMnqHkbHSBLAUHnC+QELEsAt8N9No7oRwNVgSBv+VxHAHr2GEXjjEMCN9g1OiV0QwGSXz8B3jQ/Au8vHd1Y/DsC19bMuB9IMwARCSHcCRwvA0qcQg9+fCcB6d7J/Ut4HwKIcTdUqBAbA+47JSFETBMDZ2gQExg0CwDQ+ugs96/+/QnGC+Aaa+7+O/vMUXSz3v32z8PvPpvK/fdAV0BEc7L885AfLic3iv1kUcr8/19K/SyVjBdl61Lw=\",\"dtype\":\"float64\",\"shape\":[100]}]],[[{\"__ndarray__\":\"AAAAAAAAAAAXC+wKfTbqP5zHYGL6KPo/b8a7bd+NA0BOxc2AGfMJQJbyBd3JHhBAOrAC/mgzE0Dgu701PTQWQFCgrP0tHhlAValNZzruG0Cdh8k0fKEeQA3ZCGuVmiBAx2izI0/TIUAEBinnqPkiQCxOH0lzDCRA3U8DB5MKJUCVIvcrAvMlQMmx2R7RxCZA1GBCmSd/J0B873GGRSEoQPHOUsmDqihAt8y86FQaKUCcgEqhRXApQIgpKlz9qylA4X5vij7NKUAeVIjk5tMpQDKlko3vvylA+Z5vGm2RKUDKWIx8j0gpQNMddtCh5ShAAzhtEAppKEB3DEarSNMnQOrlBAD4JCdA4OW8vsteJkA5JVYvkIElQIPz+V4pjiRAaEb+NJKFI0B/rEJw22giQH9fCY4qOSFAt43cNnHvH0CGjmfloUsdQOsHZMufiRpAblSRrUKsF0Bxy4qDfrYUQB9Pg2xgqxFAxI8lFBccDUC8I6eIa8MGQECFSvVIUwBArof4kaSk8z9p5lFc3jnaP5jmUVzeOdq/uYf4kaSk879GhUr1SFMAwLQjp4hrwwbAyY8lFBccDcAcT4NsYKsRwHPLioN+thTAa1SRrUKsF8DtB2TLn4kawIOOZ+WhSx3Auo3cNnHvH8B+XwmOKjkhwIGsQnDbaCLAZ0b+NJKFI8CD8/leKY4kwDglVi+QgSXA4uW8vsteJsDr5QQA+CQnwHcMRqtI0yfAAjhtEAppKMDUHXbQoeUowMpYjHyPSCnA+Z5vGm2RKcAxpZKN778pwB5UiOTm0ynA4X5vij7NKcCIKSpc/aspwJ2ASqFFcCnAt8y86FQaKcDxzlLJg6oowH3vcYZFISjA02BCmSd/J8DIsdke0cQmwJUi9ysC8yXA3k8DB5MKJcArTh9JcwwkwAMGKeeo+SLAx2izI0/TIcAQ2QhrlZogwJqHyTR8oR7AVKlNZzruG8BRoKz9LR4ZwOS7vTU9NBbANbAC/mgzE8CV8gXdyR4QwFLFzYAZ8wnAYca7bd+NA8CQx2Bi+ij6vxkL7Ap9Nuq/M5mxg0R+7Lw=\",\"dtype\":\"float64\",\"shape\":[100]},{\"__ndarray__\":\"AAAAAAAAAADOg8oNqm3fPzCwPjt3Xe8/t22RPuJx9z/tXFsA3hz/P2KoT7PjUwNARcA0AmwFB0BjI/s/OZ8KQNx3EDaVHQ5AVPjY+3K+EEDTriHM2FwSQCHLVOBQ6BNA7k77j0NfFUCc2O1ZLsAWQK1xv3KlCRhAeXK/O1U6GUBa6g+hA1EaQJOrZ12RTBtAWD4yIvsrHECFetyiWu4cQEA+OoLnkh1AxYoQIfgYHkCEH+9MAoAeQFJWpc6bxx5A3Ge/13rvHkAVO5tOdvceQJ5SxviF3x5A1Ct5g8KnHkBRUSdqZVAeQGpZPrvI2R1AU+VQu2ZEHUA/Ug1n2ZAcQGgIgtTZvxtABghTdD/SGkAsYKUz/8gZQDh8pX8qpRhA5YmsK+5nF0Augic7kRIWQCF9f5BzphRAscteggwlE0DtwMhY6Y8RQE3+JWdX0Q9AEt/Mtw9iDED8TgcFhtUIQMioNNliLwVArncqImlzAUCWljGh5Er7P2EjdMDUkvM/7V6WMy+N5z8WJ/iKt3HPP04n+Iq3cc+/+l6WMy+N579oI3TA1JLzv46WMaHkSvu/sXcqImlzAcDEqDTZYi8FwP9OBwWG1QjADt/Mtw9iDMBP/iVnV9EPwOvAyFjpjxHAs8teggwlE8AffX+Qc6YUwDCCJzuREhbA5ImsK+5nF8A5fKV/KqUYwCtgpTP/yBnACQhTdD/SGsBpCILU2b8bwD9SDWfZkBzAUuVQu2ZEHcBrWT67yNkdwFFRJ2plUB7A1Ct5g8KnHsCdUsb4hd8ewBU7m0529x7A3Ge/13rvHsBSVqXOm8cewIUf70wCgB7AxYoQIfgYHsBAPjqC55IdwIZ63KJa7hzAVz4yIvsrHMCSq2ddkUwbwFrqD6EDURrAenK/O1U6GcCrcb9ypQkYwJvY7VkuwBbA7k77j0NfFcAky1TgUOgTwNGuIczYXBLAU/jY+3K+EMDedxA2lR0OwGgj+z85nwrAP8A0AmwFB8BhqE+z41MDwPJcWwDeHP+/p22RPuJx978hsD47d13vv9CDyg2qbd+/7d+4bswU4bw=\",\"dtype\":\"float64\",\"shape\":[100]}]],[[{\"__ndarray__\":\"AAAAAAAAAAC5ujN74tz1P4O0S8md0QVA11BkRyZPEEAKYoDUraQVQCx57u3l4xpA5f6P+rIDIEBtgCfv8IQiQJXWKtMX8yRAB0e4UqZLJ0DHdLdcMYwpQH4e/6BmsitAIZ329A68LUCInzucEKcvQBi8eLm4uDBAF0y/e6yMMUB/Ms8YiU4yQD6qaLqG/TJAOX4t/vCYM0CkspKvJyA0QO0iBW2fkjRAtdiWN+LvNEC/AKHsjzc1QDwc3aheaTVAPUePFBuFNUAsEXOYqIo1QLhYNHsBejVA8clV5zZTNUBo6X7ZcBY1QPPpQ/ftwzRAiMqRTgNcNECHTQH+G98zQEwqa8a4TTNAJUwvhm+oMkCh7ree6u8xQPbW10ToJDFAU7a4vDlIMEDfokcEhbUuQDuWBrzuuixA/ZQb1LqiKkAFMUEHEm8oQMJLu105IiZAdUdm1o++I0CvwwL1i0YhQAPGhXByeR1Akihu9GpHGECtTJ17XPwSQGC0z7B3OwtADJFxEyRiAEDL9y4ztN/lP/L3LjO03+W/FpFxEyRiAMBqtM+wdzsLwKdMnXtc/BLAlihu9GpHGMD+xYVwcnkdwLHDAvWLRiHAckdm1o++I8DDS7tdOSImwAIxQQcSbyjAAJUb1LqiKsA4lga87roswOKiRwSFtS7AUra4vDlIMMD31tdE6CQxwKDut57q7zHAJ0wvhm+oMsBNKmvGuE0zwIdNAf4b3zPAiMqRTgNcNMDz6UP37cM0wGjpftlwFjXA8clV5zZTNcC4WDR7AXo1wCwRc5ioijXAPUePFBuFNcA8HN2oXmk1wMAAoeyPNzXAtdiWN+LvNMDtIgVtn5I0wKWykq8nIDTAOH4t/vCYM8A9qmi6hv0ywH8yzxiJTjLAF0y/e6yMMcAXvHi5uLgwwIafO5wQpy/AIZ329A68LcCCHv+gZrIrwMV0t1wxjCnABke4UqZLJ8CW1irTF/MkwHGAJ+/whCLA4f6P+rIDIMAree7t5eMawA5igNStpBXAzFBkRyZPEMB4tEvJndEFwLq6M3vi3PW/t+RqL8nD97w=\",\"dtype\":\"float64\",\"shape\":[100]},{\"__ndarray__\":\"AAAAAAAAAAAXC+wKfTbqP5zHYGL6KPo/b8a7bd+NA0BOxc2AGfMJQJbyBd3JHhBAOrAC/mgzE0Dgu701PTQWQFCgrP0tHhlAValNZzruG0Cdh8k0fKEeQA3ZCGuVmiBAx2izI0/TIUAEBinnqPkiQCxOH0lzDCRA3U8DB5MKJUCVIvcrAvMlQMmx2R7RxCZA1GBCmSd/J0B873GGRSEoQPHOUsmDqihAt8y86FQaKUCcgEqhRXApQIgpKlz9qylA4X5vij7NKUAeVIjk5tMpQDKlko3vvylA+Z5vGm2RKUDKWIx8j0gpQNMddtCh5ShAAzhtEAppKEB3DEarSNMnQOrlBAD4JCdA4OW8vsteJkA5JVYvkIElQIPz+V4pjiRAaEb+NJKFI0B/rEJw22giQH9fCY4qOSFAt43cNnHvH0CGjmfloUsdQOsHZMufiRpAblSRrUKsF0Bxy4qDfrYUQB9Pg2xgqxFAxI8lFBccDUC8I6eIa8MGQECFSvVIUwBArof4kaSk8z9p5lFc3jnaP5jmUVzeOdq/uYf4kaSk879GhUr1SFMAwLQjp4hrwwbAyY8lFBccDcAcT4NsYKsRwHPLioN+thTAa1SRrUKsF8DtB2TLn4kawIOOZ+WhSx3Auo3cNnHvH8B+XwmOKjkhwIGsQnDbaCLAZ0b+NJKFI8CD8/leKY4kwDglVi+QgSXA4uW8vsteJsDr5QQA+CQnwHcMRqtI0yfAAjhtEAppKMDUHXbQoeUowMpYjHyPSCnA+Z5vGm2RKcAxpZKN778pwB5UiOTm0ynA4X5vij7NKcCIKSpc/aspwJ2ASqFFcCnAt8y86FQaKcDxzlLJg6oowH3vcYZFISjA02BCmSd/J8DIsdke0cQmwJUi9ysC8yXA3k8DB5MKJcArTh9JcwwkwAMGKeeo+SLAx2izI0/TIcAQ2QhrlZogwJqHyTR8oR7AVKlNZzruG8BRoKz9LR4ZwOS7vTU9NBbANbAC/mgzE8CV8gXdyR4QwFLFzYAZ8wnAYca7bd+NA8CQx2Bi+ij6vxkL7Ap9Nuq/M5mxg0R+7Lw=\",\"dtype\":\"float64\",\"shape\":[100]}]],[[{\"__ndarray__\":\"AAAAAAAAAABYIlpLFTwCQLXaUVCvMhJAax8JtZE0G0BskZtvNA0iQE2hYGGEbSZACXs82LW2KkDNl33RXeQuQHh3m9YWeTFAcfxtz/ttM0AIKAN+2U41QHMWejLAGTdAnTc74dbMOEDRY5gKXWY6QNtYH4ms5DtAFw3CRDtGPUCwRhTJnIk+QA60+7yDrT9AgqAnnWFYQEAbuQECKMlAQGcF0sygKEFAu4J/k2l2QUA36YQnMrJBQE/al+i820FAfmsvBN/yQUBQkaihgPdBQB3q2vqc6UFAp5EEYULJQUD+6gcukpZBQECXCqLAUUFAqQmZrRT7QEAiPoao55JAQNHz0vWkGUBA1LX2KZMfP0BXozpCx+s9QJYF+HwjmTxAd8vv7QQpO0DKZUcM55w5QFaFXyti9jdAyeXq1Sk3NkBUCPcMC2E0QCertWzqdTJAi9rwOMJ3MEAqGVmmQNEsQPZ3HzlIlShAs5uHi/g/JED+my48kqsfQG9lkOuNthZAX59prD9UC0DV1XY+bz7yP/XVdj5vPvK/b59prD9UC8B3ZZDrjbYWwPSbLjySqx/AtpuHi/g/JMDydx85SJUowC4ZWaZA0SzAidrwOMJ3MMAoq7Vs6nUywFII9wwLYTTAy+Xq1Sk3NsBUhV8rYvY3wMxlRwznnDnAdsvv7QQpO8CXBfh8I5k8wFajOkLH6z3A2LX2KZMfP8DR89L1pBlAwCI+hqjnkkDAqAmZrRT7QMBBlwqiwFFBwP7qBy6SlkHAp5EEYULJQcAc6tr6nOlBwFCRqKGA90HAfmsvBN/yQcBP2pfovNtBwDfphCcyskHAu4J/k2l2QcBnBdLMoChBwBy5AQIoyUDAgqAnnWFYQMANtPu8g60/wLBGFMmciT7AGA3CRDtGPcDZWB+JrOQ7wNBjmApdZjrAnTc74dbMOMB2FnoywBk3wAYoA37ZTjXAcPxtz/ttM8B5d5vWFnkxwNKXfdFd5C7AA3s82LW2KsBMoWBhhG0mwHCRm280DSLAVx8JtZE0G8Cs2lFQrzISwFoiWksVPALAP9ZI6S7SA70=\",\"dtype\":\"float64\",\"shape\":[100]},{\"__ndarray__\":\"AAAAAAAAAAC5ujN74tz1P4O0S8md0QVA11BkRyZPEEAKYoDUraQVQCx57u3l4xpA5f6P+rIDIEBtgCfv8IQiQJXWKtMX8yRAB0e4UqZLJ0DHdLdcMYwpQH4e/6BmsitAIZ329A68LUCInzucEKcvQBi8eLm4uDBAF0y/e6yMMUB/Ms8YiU4yQD6qaLqG/TJAOX4t/vCYM0CkspKvJyA0QO0iBW2fkjRAtdiWN+LvNEC/AKHsjzc1QDwc3aheaTVAPUePFBuFNUAsEXOYqIo1QLhYNHsBejVA8clV5zZTNUBo6X7ZcBY1QPPpQ/ftwzRAiMqRTgNcNECHTQH+G98zQEwqa8a4TTNAJUwvhm+oMkCh7ree6u8xQPbW10ToJDFAU7a4vDlIMEDfokcEhbUuQDuWBrzuuixA/ZQb1LqiKkAFMUEHEm8oQMJLu105IiZAdUdm1o++I0CvwwL1i0YhQAPGhXByeR1Akihu9GpHGECtTJ17XPwSQGC0z7B3OwtADJFxEyRiAEDL9y4ztN/lP/L3LjO03+W/FpFxEyRiAMBqtM+wdzsLwKdMnXtc/BLAlihu9GpHGMD+xYVwcnkdwLHDAvWLRiHAckdm1o++I8DDS7tdOSImwAIxQQcSbyjAAJUb1LqiKsA4lga87roswOKiRwSFtS7AUra4vDlIMMD31tdE6CQxwKDut57q7zHAJ0wvhm+oMsBNKmvGuE0zwIdNAf4b3zPAiMqRTgNcNMDz6UP37cM0wGjpftlwFjXA8clV5zZTNcC4WDR7AXo1wCwRc5ioijXAPUePFBuFNcA8HN2oXmk1wMAAoeyPNzXAtdiWN+LvNMDtIgVtn5I0wKWykq8nIDTAOH4t/vCYM8A9qmi6hv0ywH8yzxiJTjLAF0y/e6yMMcAXvHi5uLgwwIafO5wQpy/AIZ329A68LcCCHv+gZrIrwMV0t1wxjCnABke4UqZLJ8CW1irTF/MkwHGAJ+/whCLA4f6P+rIDIMAree7t5eMawA5igNStpBXAzFBkRyZPEMB4tEvJndEFwLq6M3vi3PW/t+RqL8nD97w=\",\"dtype\":\"float64\",\"shape\":[100]}]],[[{\"__ndarray__\":\"AAAAAAAAAADXcwMC1WoOQIynIJcnWx5Avw1MAM2wJkBegpteohwuQF1VZcG2tDJAEQklBNRHNkCVpbml+cM5QEhoKQGQJT1Aq6UoaY00QEDWuNRmnsVBQCFMDoxdRENADKyvTUCvREAcTqyZ0ARGQKxoqliuQ0dAbWv02JBqSEBRN0whSHhJQEzRQiq+a0pAxo/R/PdDS0BCVA21FgBMQLgk6WdYn0xAKk0b6xghTUAk+1Z+0oRNQDDiK1Ueyk1A18n9ALXwTUBxyaa6bvhNQI9KeItD4U1Ae41wVUurTUB9OZy6vVZNQIRZvePx40xA4uJyJl5TTEBNYz2Ll6VLQAqU3jNR20pA2y6yolv1SUDNXL7jo/RIQFtOWZgy2kdAc99f5iqnRkDreBZMyVxFQM+O6Vli/ENA8gheU2GHQkDFd5u4Rv9AQJkqJHRNyz5AW0iqL094O0CzUq7c/wg4QAdekeTpgDRAPELXOrHjMEB4WvM4H2oqQFuui3Gh8SJAvCLpHjnLFkBYP9MewW7+P44/0x7Bbv6/ySLpHjnLFsBirotxofEiwHBa8zgfairAP0LXOrHjMMADXpHk6YA0wLZSrtz/CDjAV0iqL094O8CbKiR0Tcs+wMN3m7hG/0DA9AheU2GHQsDNjulZYvxDwO14FkzJXEXAct9f5iqnRsBbTlmYMtpHwMxcvuOj9EjA3S6yolv1ScALlN4zUdtKwE1jPYuXpUvA4eJyJl5TTMCFWb3j8eNMwH05nLq9Vk3Ae41wVUurTcCOSniLQ+FNwHHJprpu+E3A18n9ALXwTcAw4itVHspNwCX7Vn7ShE3AKk0b6xghTcC4JOlnWJ9MwENUDbUWAEzAxY/R/PdDS8BL0UIqvmtKwFE3TCFIeEnAbmv02JBqSMCqaKpYrkNHwBtOrJnQBEbADKyvTUCvRMAkTA6MXURDwNS41GaexUHAqqUoaY00QMBJaCkBkCU9wJqluaX5wznACwklBNRHNsBcVWXBtrQywGOCm16iHC7Arw1MAM2wJsB9pyCXJ1sewNlzAwLVag7AwHTstx+IEL0=\",\"dtype\":\"float64\",\"shape\":[100]},{\"__ndarray__\":\"AAAAAAAAAABYIlpLFTwCQLXaUVCvMhJAax8JtZE0G0BskZtvNA0iQE2hYGGEbSZACXs82LW2KkDNl33RXeQuQHh3m9YWeTFAcfxtz/ttM0AIKAN+2U41QHMWejLAGTdAnTc74dbMOEDRY5gKXWY6QNtYH4ms5DtAFw3CRDtGPUCwRhTJnIk+QA60+7yDrT9AgqAnnWFYQEAbuQECKMlAQGcF0sygKEFAu4J/k2l2QUA36YQnMrJBQE/al+i820FAfmsvBN/yQUBQkaihgPdBQB3q2vqc6UFAp5EEYULJQUD+6gcukpZBQECXCqLAUUFAqQmZrRT7QEAiPoao55JAQNHz0vWkGUBA1LX2KZMfP0BXozpCx+s9QJYF+HwjmTxAd8vv7QQpO0DKZUcM55w5QFaFXyti9jdAyeXq1Sk3NkBUCPcMC2E0QCertWzqdTJAi9rwOMJ3MEAqGVmmQNEsQPZ3HzlIlShAs5uHi/g/JED+my48kqsfQG9lkOuNthZAX59prD9UC0DV1XY+bz7yP/XVdj5vPvK/b59prD9UC8B3ZZDrjbYWwPSbLjySqx/AtpuHi/g/JMDydx85SJUowC4ZWaZA0SzAidrwOMJ3MMAoq7Vs6nUywFII9wwLYTTAy+Xq1Sk3NsBUhV8rYvY3wMxlRwznnDnAdsvv7QQpO8CXBfh8I5k8wFajOkLH6z3A2LX2KZMfP8DR89L1pBlAwCI+hqjnkkDAqAmZrRT7QMBBlwqiwFFBwP7qBy6SlkHAp5EEYULJQcAc6tr6nOlBwFCRqKGA90HAfmsvBN/yQcBP2pfovNtBwDfphCcyskHAu4J/k2l2QcBnBdLMoChBwBy5AQIoyUDAgqAnnWFYQMANtPu8g60/wLBGFMmciT7AGA3CRDtGPcDZWB+JrOQ7wNBjmApdZjrAnTc74dbMOMB2FnoywBk3wAYoA37ZTjXAcPxtz/ttM8B5d5vWFnkxwNKXfdFd5C7AA3s82LW2KsBMoWBhhG0mwHCRm280DSLAVx8JtZE0G8Cs2lFQrzISwFoiWksVPALAP9ZI6S7SA70=\",\"dtype\":\"float64\",\"shape\":[100]}]],[[{\"__ndarray__\":\"AAAAAAAAAABlodv/m14ZQCfug5uIUSlA0YZ99NTsMkBx5eNyYx05QMVRxWMOND9AnJviiEeVQkBmgsr3X31FQDysAHdRT0hAkbmk1DMIS0A9cLGzOKVNQEbxPjjXEVBAwErRc4FAUUDx6zIOY11SQGr6+V1WZ1NAPRtmPUldVEBNUfkkPj5VQAfqzzBNCVZAbxKqD6W9VkDfrLDai1pXQB78FtVf31dAHprTEphLWEDy3cQFxZ5YQNkyr/CQ2FhAxtaeP8D4WEBD5VHFMf9YQABga93e61hAS/RLc9u+WECNbontVXhYQGIGGv6WGFhActFkVwGgV0DLm4RGEQ9XQLcFJjNcZlZA5PuEBZCmVUChSyhzctBUQAUeFDPg5FNAvm9FGszkUkAFDWEhPtFRQB0amFRSq1BA+Uy1XW/oTkCbPQzDXVpMQEkeoxMSr0lA/fOYqkzpRkBy9awt6QtEQFrZC5vbGUFAej0JfFosPEC7QJAb8wc2QKeTteWrmS9AhLkfkt4CI0A9F9N64WEJQGoX03rhYQnAj7kfkt4CI8Cyk7Xlq5kvwLRAkBvzBzbAfz0JfFosPMBX2Qub2xlBwHX1rC3pC0TA+vOYqkzpRsBLHqMTEq9JwJg9DMNdWkzA/Ey1XW/oTsAbGphUUqtQwAcNYSE+0VHAvW9FGszkUsAGHhQz4ORTwKBLKHNy0FTA5vuEBZCmVcC4BSYzXGZWwMubhEYRD1fAcdFkVwGgV8BjBhr+lhhYwI1uie1VeFjAS/RLc9u+WMD/X2vd3utYwEPlUcUx/1jAxtaeP8D4WMDZMq/wkNhYwPPdxAXFnljAHprTEphLWMAe/BbVX99XwOCssNqLWlfAbhKqD6W9VsAG6s8wTQlWwE1R+SQ+PlXAPhtmPUldVMBp+vldVmdTwPDrMg5jXVLAwErRc4FAUcBI8T441xFQwDpwsbM4pU3AkLmk1DMIS8A9rAB3UU9IwGmCyvdffUXAl5viiEeVQsDDUcVjDjQ/wHXl43JjHTnAxIZ99NTsMsAa7oObiFEpwGah2/+bXhnAy8/Pr5uTG70=\",\"dtype\":\"float64\",\"shape\":[100]},{\"__ndarray__\":\"AAAAAAAAAADXcwMC1WoOQIynIJcnWx5Avw1MAM2wJkBegpteohwuQF1VZcG2tDJAEQklBNRHNkCVpbml+cM5QEhoKQGQJT1Aq6UoaY00QEDWuNRmnsVBQCFMDoxdRENADKyvTUCvREAcTqyZ0ARGQKxoqliuQ0dAbWv02JBqSEBRN0whSHhJQEzRQiq+a0pAxo/R/PdDS0BCVA21FgBMQLgk6WdYn0xAKk0b6xghTUAk+1Z+0oRNQDDiK1Ueyk1A18n9ALXwTUBxyaa6bvhNQI9KeItD4U1Ae41wVUurTUB9OZy6vVZNQIRZvePx40xA4uJyJl5TTEBNYz2Ll6VLQAqU3jNR20pA2y6yolv1SUDNXL7jo/RIQFtOWZgy2kdAc99f5iqnRkDreBZMyVxFQM+O6Vli/ENA8gheU2GHQkDFd5u4Rv9AQJkqJHRNyz5AW0iqL094O0CzUq7c/wg4QAdekeTpgDRAPELXOrHjMEB4WvM4H2oqQFuui3Gh8SJAvCLpHjnLFkBYP9MewW7+P44/0x7Bbv6/ySLpHjnLFsBirotxofEiwHBa8zgfairAP0LXOrHjMMADXpHk6YA0wLZSrtz/CDjAV0iqL094O8CbKiR0Tcs+wMN3m7hG/0DA9AheU2GHQsDNjulZYvxDwO14FkzJXEXAct9f5iqnRsBbTlmYMtpHwMxcvuOj9EjA3S6yolv1ScALlN4zUdtKwE1jPYuXpUvA4eJyJl5TTMCFWb3j8eNMwH05nLq9Vk3Ae41wVUurTcCOSniLQ+FNwHHJprpu+E3A18n9ALXwTcAw4itVHspNwCX7Vn7ShE3AKk0b6xghTcC4JOlnWJ9MwENUDbUWAEzAxY/R/PdDS8BL0UIqvmtKwFE3TCFIeEnAbmv02JBqSMCqaKpYrkNHwBtOrJnQBEbADKyvTUCvRMAkTA6MXURDwNS41GaexUHAqqUoaY00QMBJaCkBkCU9wJqluaX5wznACwklBNRHNsBcVWXBtrQywGOCm16iHC7Arw1MAM2wJsB9pyCXJ1sewNlzAwLVag7AwHTstx+IEL0=\",\"dtype\":\"float64\",\"shape\":[100]}]]],\"ys\":[[[{\"__ndarray__\":\"AAAAAAAA8D+VSynBge/vP2j6BgUYvu8/Jek3u/Vr7z8jfxaOb/nuP/FJcov7Zu4/XLHeqjC17T9+NRQyxuTsP1+hBPiS9us/uvBkh4zr6j9WMpEhxsTpPzlQz6Jvg+g/tDkVSdQo5z+WUJVeWbblP0ATccl8LeQ/A6sNgtOP4j9cLKDxB9/gP1a1P3WwOd4/thLH2SiW2j+KU4hOOdfWP1tDY1G+ANM/jFrgSlktzj+Mcwt+GjrGPyLsuGvkX7w/cyCwKKhcqD/N+ijPKj+QvwzJ6KS5SbS/3kQPZF83wr9P3qvaGjfKv5OAwi7oDdG/PSGBd67u1L83i/Tn4LnYv4vJmF6Wa9y/AgAAAAAA4L/P5tyRtrnhv860DJEnYeO/hlh3f5705L/bPrV2e3Lmv11Sx9Q02ee/JuDa0Vgn6b9dHHf9jlvqv4pZi6GZdOu/wfLvCVdx7L/ZTwivwlDtvxstUkL2Ee6/V1DNmyq07r9D8kaHuDbvvwQ9tXAZme+/XjTx7ufa778HB0As4PvvvwcHQCzg+++/XjTx7ufa778EPbVwGZnvv0PyRoe4Nu+/V1DNmyq07r8cLVJC9hHuv9lPCK/CUO2/wvLvCVdx7L+JWYuhmXTrv14cd/2OW+q/JeDa0Vgn6b9eUsfUNNnnv9o+tXZ7cua/iFh3f5705L/MtAyRJ2Hjv9Hm3JG2ueG/+f//////37+IyZhelmvcvzeL9Ofgudi/QSGBd67u1L+MgMIu6A3Rv0jeq9oaN8q/3kQPZF83wr8eyeikuUm0v1T6KM8qP5C/kCCwKKhcqD8R7Lhr5F+8P3xzC34aOsY/k1rgSlktzj9bQ2NRvgDTP4ZTiE4519Y/vRLH2SiW2j9ZtT91sDneP1wsoPEH3+A/AasNgtOP4j9DE3HJfC3kP5dQlV5ZtuU/tDkVSdQo5z83UM+ib4PoP1cykSHGxOk/uvBkh4zr6j9foQT4kvbrP301FDLG5Ow/XbHeqjC17T/xSXKL+2buPyN/Fo5v+e4/Juk3u/Vr7z9o+gYFGL7vP5VLKcGB7+8/AAAAAAAA8D8=\",\"dtype\":\"float64\",\"shape\":[100]}]],[[{\"__ndarray__\":\"tW1bMIqw+j/CArqfyKL6P/O88BuSefo/p4+yIBE1+j+kfn9LjNX5P2/w2RJmW/k/50PHYBzH+D+BSQQRSBn4P61rc1OcUvc/lPNm8+Vz9j9b0YWECn71P8qEJHYHcvQ/uxgGDvFQ8z+lfZJL8RvyP/zTp7RG1PA/w5mGGob27j8DLqj2kyTsP7t/PjCfNek/tuRc4a0s5j+n7Knt4AzjP8zgmJHhst8/x2wdSVQr2T+bdUcU1YnSPxayQIhzqsc/yKlUcq9RtD8s7HS56Bmbv4VIoe/T68C/5GyKcPlizr/Is58aZt3Vv1csfJHFcty/zGic5Wh14b8h0WnYb5/kv/l4z6I0tOe/uG1bMIqw6r+KjKScXJHtv2PUuy/aKfC/QFvkrVx68b+PcyDn2rjyv3wDMowM5PO/S/a1Mr369L9xIBCTzfv1v/2XjbA05va/MD6M6gC597+c5431WHP4vy9iNrt8FPm/7HNNIMab+b/XtfivqQj6v07KfCu3Wvq/PL/x/ZmR+r/fVnOTGa36v99Wc5MZrfq/PL/x/ZmR+r9Oynwrt1r6v9e1+K+pCPq/7HNNIMab+b8wYja7fBT5v5znjfVYc/i/MT6M6gC597/8l42wNOb2v3IgEJPN+/W/Sva1Mr369L99AzKMDOTzv49zIOfauPK/QlvkrVx68b9i1Lsv2inwv46MpJxcke2/r21bMIqw6r/3eM+iNLTnvyHRadhvn+S/z2ic5Wh14b9MLHyRxXLcv8Oznxpm3dW/5GyKcPlizr+USKHv0+vAv2PrdLnoGZu/4KlUcq9RtD8IskCIc6rHP411RxTVidI/zWwdSVQr2T/M4JiR4bLfP6Psqe3gDOM/vORc4a0s5j++fz4wnzXpPwMuqPaTJOw/v5mGGob27j/+06e0RtTwP6Z9kkvxG/I/uxgGDvFQ8z/IhCR2B3L0P1zRhYQKfvU/lPNm8+Vz9j+ta3NTnFL3P4BJBBFIGfg/50PHYBzH+D9v8NkSZlv5P6R+f0uM1fk/p4+yIBE1+j/zvPAbknn6P8ICup/Iovo/tW1bMIqw+j8=\",\"dtype\":\"float64\",\"shape\":[100]},{\"__ndarray__\":\"AAAAAAAA8D+VSynBge/vP2j6BgUYvu8/Jek3u/Vr7z8jfxaOb/nuP/FJcov7Zu4/XLHeqjC17T9+NRQyxuTsP1+hBPiS9us/uvBkh4zr6j9WMpEhxsTpPzlQz6Jvg+g/tDkVSdQo5z+WUJVeWbblP0ATccl8LeQ/A6sNgtOP4j9cLKDxB9/gP1a1P3WwOd4/thLH2SiW2j+KU4hOOdfWP1tDY1G+ANM/jFrgSlktzj+Mcwt+GjrGPyLsuGvkX7w/cyCwKKhcqD/N+ijPKj+QvwzJ6KS5SbS/3kQPZF83wr9P3qvaGjfKv5OAwi7oDdG/PSGBd67u1L83i/Tn4LnYv4vJmF6Wa9y/AgAAAAAA4L/P5tyRtrnhv860DJEnYeO/hlh3f5705L/bPrV2e3Lmv11Sx9Q02ee/JuDa0Vgn6b9dHHf9jlvqv4pZi6GZdOu/wfLvCVdx7L/ZTwivwlDtvxstUkL2Ee6/V1DNmyq07r9D8kaHuDbvvwQ9tXAZme+/XjTx7ufa778HB0As4PvvvwcHQCzg+++/XjTx7ufa778EPbVwGZnvv0PyRoe4Nu+/V1DNmyq07r8cLVJC9hHuv9lPCK/CUO2/wvLvCVdx7L+JWYuhmXTrv14cd/2OW+q/JeDa0Vgn6b9eUsfUNNnnv9o+tXZ7cua/iFh3f5705L/MtAyRJ2Hjv9Hm3JG2ueG/+f//////37+IyZhelmvcvzeL9Ofgudi/QSGBd67u1L+MgMIu6A3Rv0jeq9oaN8q/3kQPZF83wr8eyeikuUm0v1T6KM8qP5C/kCCwKKhcqD8R7Lhr5F+8P3xzC34aOsY/k1rgSlktzj9bQ2NRvgDTP4ZTiE4519Y/vRLH2SiW2j9ZtT91sDneP1wsoPEH3+A/AasNgtOP4j9DE3HJfC3kP5dQlV5ZtuU/tDkVSdQo5z83UM+ib4PoP1cykSHGxOk/uvBkh4zr6j9foQT4kvbrP301FDLG5Ow/XbHeqjC17T/xSXKL+2buPyN/Fo5v+e4/Juk3u/Vr7z9o+gYFGL7vP5VLKcGB7+8/AAAAAAAA8D8=\",\"dtype\":\"float64\",\"shape\":[100]}]],[[{\"__ndarray__\":\"WkH9gK5CBkBKGXdXNTcGQLddla7VFAZAQkI59bLbBUD9++0QCIwFQEV/MiEnJgVAOAbSKnmqBEBMo6KrfRkEQI13GRfKcwNATAU8PAm6AkB9bY2V+uwBQMoXrYNxDQFAFTxyc1QcAEBb0sngNzX+P5DDEkmjEvw//NMLjR7T+T+HoHru+nj3P0YVEyClBvU/hDSjxaJ+8j867hG1H8fvPxWnQAI4cOo/dW3eew/+5D9WbqiFhuzeP0N794wNvdM/xc3SkHfywD9s7lqfkJqmv94j2qXsOcy/8G4aQA5Y2b/4FAcTgzziv6aCxp4yuue/W51owGwf7b8QqbjVUDPxvzAOvUIwxfO/XUH9gK5C9r9jJDFsOqn4v2EScoda9vq/1TU+iq8n/b+ptnjS9jr/vwe6cFwGlwDAW7jOYnd/AcAPAUXh3lUCwNQLnNRfGQPAKDJJtTDJA8DlXCxHnGQEwJQlYlQC6wTActdpUthbBcDyEvXwqbYFwFbdzZEZ+wXAQIRXqeAoBsDm2kYH0D8GwObaRgfQPwbAQIRXqeAoBsBW3c2RGfsFwPIS9fCptgXActdpUthbBcCUJWJUAusEwOVcLEecZATAKTJJtTDJA8DTC5zUXxkDwA8BReHeVQLAWrjOYnd/AcAHunBcBpcAwKe2eNL2Ov+/2DU+iq8n/b9eEnKHWvb6v2YkMWw6qfi/VUH9gK5C9r8uDr1CMMXzvxCpuNVQM/G/YZ1owGwf7b+cgsaeMrrnv/MUBxODPOK/8G4aQA5Y2b/3I9ql7DnMv8TtWp+Qmqa/2c3SkHfywD84e/eMDb3TP0BuqIWG7N4/em3eew/+5D8Vp0ACOHDqPzXuEbUfx+8/iTSjxaJ+8j9IFRMgpQb1P4egeu76ePc/+dMLjR7T+T+UwxJJoxL8P13SyeA3Nf4/FTxyc1QcAEDIF62DcQ0BQH5tjZX67AFATAU8PAm6AkCNdxkXynMDQEujoqt9GQRAOAbSKnmqBEBFfzIhJyYFQP377RAIjAVAQkI59bLbBUC3XZWu1RQGQEoZd1c1NwZAWkH9gK5CBkA=\",\"dtype\":\"float64\",\"shape\":[100]},{\"__ndarray__\":\"tW1bMIqw+j/CArqfyKL6P/O88BuSefo/p4+yIBE1+j+kfn9LjNX5P2/w2RJmW/k/50PHYBzH+D+BSQQRSBn4P61rc1OcUvc/lPNm8+Vz9j9b0YWECn71P8qEJHYHcvQ/uxgGDvFQ8z+lfZJL8RvyP/zTp7RG1PA/w5mGGob27j8DLqj2kyTsP7t/PjCfNek/tuRc4a0s5j+n7Knt4AzjP8zgmJHhst8/x2wdSVQr2T+bdUcU1YnSPxayQIhzqsc/yKlUcq9RtD8s7HS56Bmbv4VIoe/T68C/5GyKcPlizr/Is58aZt3Vv1csfJHFcty/zGic5Wh14b8h0WnYb5/kv/l4z6I0tOe/uG1bMIqw6r+KjKScXJHtv2PUuy/aKfC/QFvkrVx68b+PcyDn2rjyv3wDMowM5PO/S/a1Mr369L9xIBCTzfv1v/2XjbA05va/MD6M6gC597+c5431WHP4vy9iNrt8FPm/7HNNIMab+b/XtfivqQj6v07KfCu3Wvq/PL/x/ZmR+r/fVnOTGa36v99Wc5MZrfq/PL/x/ZmR+r9Oynwrt1r6v9e1+K+pCPq/7HNNIMab+b8wYja7fBT5v5znjfVYc/i/MT6M6gC597/8l42wNOb2v3IgEJPN+/W/Sva1Mr369L99AzKMDOTzv49zIOfauPK/QlvkrVx68b9i1Lsv2inwv46MpJxcke2/r21bMIqw6r/3eM+iNLTnvyHRadhvn+S/z2ic5Wh14b9MLHyRxXLcv8Oznxpm3dW/5GyKcPlizr+USKHv0+vAv2PrdLnoGZu/4KlUcq9RtD8IskCIc6rHP411RxTVidI/zWwdSVQr2T/M4JiR4bLfP6Psqe3gDOM/vORc4a0s5j++fz4wnzXpPwMuqPaTJOw/v5mGGob27j/+06e0RtTwP6Z9kkvxG/I/uxgGDvFQ8z/IhCR2B3L0P1zRhYQKfvU/lPNm8+Vz9j+ta3NTnFL3P4BJBBFIGfg/50PHYBzH+D9v8NkSZlv5P6R+f0uM1fk/p4+yIBE1+j/zvPAbknn6P8ICup/Iovo/tW1bMIqw+j8=\",\"dtype\":\"float64\",\"shape\":[100]}]],[[{\"__ndarray__\":\"92HHqfyQEkD1JRrsaocSQAVqUZC/ahJAbQL/Ixg7EkDY3pDGpfgRQAAErvasoxFAO3KbS4U8EUBEwfEamcMQQOuDAAtlORBAi+KgJO88D0D+jZHJ4OYNQE+MHp7/cQxA4fqYAczfCkANbR+N5DEJQGV7PWgEagdASZQbgAGKBUA58hWjypMDQDsProJliQFAlrjIO9nZ/j/Oq0AsGoH6P9VSxuEIDfY/JtgpkTyC8T/WPDe7x8rpP9XOLgqAduA/PhwPzf9EzD8Ic545Sdqyv5yAxcDIite/ov5/VF0j5b+DEsUhjGvuv3PxP64vyvO/VJX+9TJK+L+icRBjLLH8vxEQ6R9JfQDA+WHHqfyQAsDYO0u4jJEEwDubGu/ofAbAL7r+zBZRCMD5xAG2MwwKwF/D6uR2rAvA0OQWQjMwDcB20sod2ZUOwEAUNMz32w/AJ+q4kJ+AEMDZoA5mQAIRwMItdsZYchHAevMWJXXQEcA7SwF/NBwSwKXoLr9IVRLASvj/Dnd7EsC6AOISmI4SwLoA4hKYjhLASvj/Dnd7EsCl6C6/SFUSwDtLAX80HBLAevMWJXXQEcDCLXbGWHIRwNmgDmZAAhHAKOq4kJ+AEMA/FDTM99sPwHfSyh3ZlQ7AzuQWQjMwDcBgw+rkdqwLwPjEAbYzDArAMrr+zBZRCMA5mxrv6HwGwNs7S7iMkQTA82HHqfyQAsAPEOkfSX0AwKJxEGMssfy/WZX+9TJK+L9r8T+uL8rzv3sSxSGMa+6/ov5/VF0j5b+xgMXAyIrXv3tynjlJ2rK/YBwPzf9EzD/Lzi4KgHbgP8M8N7vHyuk/KtgpkTyC8T/VUsbhCA32P8mrQCwagfo/nrjIO9nZ/j89D66CZYkBQDnyFaPKkwNARpQbgAGKBUBpez1oBGoHQA5tH43kMQlA4fqYAczfCkBMjB6e/3EMQP+Nkcng5g1Ai+KgJO88D0DrgwALZTkQQETB8RqZwxBAPHKbS4U8EUAABK72rKMRQNjekMal+BFAbgL/Ixg7EkAFalGQv2oSQPUlGuxqhxJA92HHqfyQEkA=\",\"dtype\":\"float64\",\"shape\":[100]},{\"__ndarray__\":\"WkH9gK5CBkBKGXdXNTcGQLddla7VFAZAQkI59bLbBUD9++0QCIwFQEV/MiEnJgVAOAbSKnmqBEBMo6KrfRkEQI13GRfKcwNATAU8PAm6AkB9bY2V+uwBQMoXrYNxDQFAFTxyc1QcAEBb0sngNzX+P5DDEkmjEvw//NMLjR7T+T+HoHru+nj3P0YVEyClBvU/hDSjxaJ+8j867hG1H8fvPxWnQAI4cOo/dW3eew/+5D9WbqiFhuzeP0N794wNvdM/xc3SkHfywD9s7lqfkJqmv94j2qXsOcy/8G4aQA5Y2b/4FAcTgzziv6aCxp4yuue/W51owGwf7b8QqbjVUDPxvzAOvUIwxfO/XUH9gK5C9r9jJDFsOqn4v2EScoda9vq/1TU+iq8n/b+ptnjS9jr/vwe6cFwGlwDAW7jOYnd/AcAPAUXh3lUCwNQLnNRfGQPAKDJJtTDJA8DlXCxHnGQEwJQlYlQC6wTActdpUthbBcDyEvXwqbYFwFbdzZEZ+wXAQIRXqeAoBsDm2kYH0D8GwObaRgfQPwbAQIRXqeAoBsBW3c2RGfsFwPIS9fCptgXActdpUthbBcCUJWJUAusEwOVcLEecZATAKTJJtTDJA8DTC5zUXxkDwA8BReHeVQLAWrjOYnd/AcAHunBcBpcAwKe2eNL2Ov+/2DU+iq8n/b9eEnKHWvb6v2YkMWw6qfi/VUH9gK5C9r8uDr1CMMXzvxCpuNVQM/G/YZ1owGwf7b+cgsaeMrrnv/MUBxODPOK/8G4aQA5Y2b/3I9ql7DnMv8TtWp+Qmqa/2c3SkHfywD84e/eMDb3TP0BuqIWG7N4/em3eew/+5D8Vp0ACOHDqPzXuEbUfx+8/iTSjxaJ+8j9IFRMgpQb1P4egeu76ePc/+dMLjR7T+T+UwxJJoxL8P13SyeA3Nf4/FTxyc1QcAEDIF62DcQ0BQH5tjZX67AFATAU8PAm6AkCNdxkXynMDQEujoqt9GQRAOAbSKnmqBEBFfzIhJyYFQP377RAIjAVAQkI59bLbBUC3XZWu1RQGQEoZd1c1NwZAWkH9gK5CBkA=\",\"dtype\":\"float64\",\"shape\":[100]}]],[[{\"__ndarray__\":\"ptbPyXX4HkCw88lff+geQK+EFZasuB5ACQXUuC5pHkAPFxq5V/odQAbjd9iZbB1A7QEyM4fAHEB7XKQp0fYbQLs/aqlHEBtA+yEIV9gNGkBwCfSYjfAYQAgZ+YSNuRdAr1YRsRhqFkAfKe7oiAMVQFA0hMlPhxNALQUKRPX2EUAsTPIJFlQQQLtABMfDQA1A4qJz5TO7CUBhL7bIHRsGQLjB0yE+ZAJACfJVPtI0/T9IxRn0DIP1P8n9zcA1dus/NYPLaQWU1z9Fcc32unK/v5fm2RakouO/TKxsnlmh8b/laO67NF/5v6fFpzl0gQDAG0nYZEpCBMDEXglsPu4HwAWGpmKHgQvAqtbPyXX4DsCusHauuycRwE7VEGCNwRLAe+BnhglIFMA9NEacnbkVwM1IfKnMFBfA29aWyzBYGMCpH8mmfIIZwPcJj718khrAL9qkrRiHG8AoyQ1RVF8cwFmK/8FQGh3AMdOmQE23HcD7Cdj5pzUewABM363elB7AntbDNo/UHsCKbHTtd/QewIpsdO139B7AntbDNo/UHsAATN+t3pQewPsJ2PmnNR7AMdOmQE23HcBaiv/BUBodwCjJDVFUXxzAMNqkrRiHG8D3CY+9fJIawKofyaZ8ghnA2taWyzBYGMDOSHypzBQXwDw0RpyduRXAfeBnhglIFMBM1RBgjcESwLCwdq67JxHAn9bPyXX4DsAChqZih4ELwMReCWw+7gfAH0nYZEpCBMCgxac5dIEAwN5o7rs0X/m/TKxsnlmh8b+p5tkWpKLjv1twzfa6cr+/UYPLaQWU1z+4/c3ANXbrPzjFGfQMg/U/EPJVPtI0/T+4wdMhPmQCQF0vtsgdGwZA6aJz5TO7CUC+QATHw0ANQCxM8gkWVBBAKwUKRPX2EUBTNITJT4cTQCAp7uiIAxVAr1YRsRhqFkAGGfmEjbkXQHEJ9JiN8BhA+yEIV9gNGkC7P2qpRxAbQHpcpCnR9htA7gEyM4fAHEAG43fYmWwdQA8XGrlX+h1ACQXUuC5pHkCvhBWWrLgeQLDzyV9/6B5AptbPyXX4HkA=\",\"dtype\":\"float64\",\"shape\":[100]},{\"__ndarray__\":\"92HHqfyQEkD1JRrsaocSQAVqUZC/ahJAbQL/Ixg7EkDY3pDGpfgRQAAErvasoxFAO3KbS4U8EUBEwfEamcMQQOuDAAtlORBAi+KgJO88D0D+jZHJ4OYNQE+MHp7/cQxA4fqYAczfCkANbR+N5DEJQGV7PWgEagdASZQbgAGKBUA58hWjypMDQDsProJliQFAlrjIO9nZ/j/Oq0AsGoH6P9VSxuEIDfY/JtgpkTyC8T/WPDe7x8rpP9XOLgqAduA/PhwPzf9EzD8Ic545Sdqyv5yAxcDIite/ov5/VF0j5b+DEsUhjGvuv3PxP64vyvO/VJX+9TJK+L+icRBjLLH8vxEQ6R9JfQDA+WHHqfyQAsDYO0u4jJEEwDubGu/ofAbAL7r+zBZRCMD5xAG2MwwKwF/D6uR2rAvA0OQWQjMwDcB20sod2ZUOwEAUNMz32w/AJ+q4kJ+AEMDZoA5mQAIRwMItdsZYchHAevMWJXXQEcA7SwF/NBwSwKXoLr9IVRLASvj/Dnd7EsC6AOISmI4SwLoA4hKYjhLASvj/Dnd7EsCl6C6/SFUSwDtLAX80HBLAevMWJXXQEcDCLXbGWHIRwNmgDmZAAhHAKOq4kJ+AEMA/FDTM99sPwHfSyh3ZlQ7AzuQWQjMwDcBgw+rkdqwLwPjEAbYzDArAMrr+zBZRCMA5mxrv6HwGwNs7S7iMkQTA82HHqfyQAsAPEOkfSX0AwKJxEGMssfy/WZX+9TJK+L9r8T+uL8rzv3sSxSGMa+6/ov5/VF0j5b+xgMXAyIrXv3tynjlJ2rK/YBwPzf9EzD/Lzi4KgHbgP8M8N7vHyuk/KtgpkTyC8T/VUsbhCA32P8mrQCwagfo/nrjIO9nZ/j89D66CZYkBQDnyFaPKkwNARpQbgAGKBUBpez1oBGoHQA5tH43kMQlA4fqYAczfCkBMjB6e/3EMQP+Nkcng5g1Ai+KgJO88D0DrgwALZTkQQETB8RqZwxBAPHKbS4U8EUAABK72rKMRQNjekMal+BFAbgL/Ixg7EkAFalGQv2oSQPUlGuxqhxJA92HHqfyQEkA=\",\"dtype\":\"float64\",\"shape\":[100]}]],[[{\"__ndarray__\":\"QfkX+rvUKUAFSL2za8cpQMUCAJqInylAu/iyyjtdKUDDusadyQApQNdp1l6RiihARDLs6gz7J0A3tuIy0FInQFXl5KKIkiZA4HSpb/y6JUB1PyLKCc0kQBwpcvqlySNA/6AVY9yxIkBGY0JtzYYhQBmaml+tSSBACKnLQIb3HUAqyy7JzTwbQGIQ+5kBZhhARxAO5g52FUCqNzzN/G8SQIXqmXrSrQ5A5AfqdgtcCECTZD0zKPEBQJFhk2uM5/Y/D/izVViq4z/WkCC7tjrKv1JsHqR4YPC/OgUtwLho/b/FC6YLVCkFwBX2l2p7iAvAbYWYh6DlEMChv7BmmPUTwO+b7jD98BbARPkX+rvUGcAb9Is22p0cwOxFT814SR/ABLbmhmvqIMA/vSDDqh4iwObm7Fs8QCPAnpHm0vVNJMCu6F4ewUYlwBNj+MedKSbAYbQE9aH1JsCmq5RX+6knwECCQQfwRSjA+CLQQN/IKMDn3egLQjIpwO21OMargSnAp9xsk8q2KcDG7ZSxZ9EpwMbtlLFn0SnAp9xsk8q2KcDttTjGq4EpwOfd6AtCMinA+CLQQN/IKMBBgkEH8EUowKarlFf7qSfAYrQE9aH1JsASY/jHnSkmwK7oXh7BRiXAnpHm0vVNJMDn5uxbPEAjwD69IMOqHiLABrbmhmvqIMDpRU/NeEkfwB70izbanRzAO/kX+rvUGcDsm+4w/fAWwKG/sGaY9RPAcIWYh6DlEMAJ9pdqe4gLwL8LpgtUKQXAOgUtwLho/b9hbB6keGDwvxKQILu2Osq/J/izVViq4z+DYZNrjOf2P4ZkPTMo8QFA6QfqdgtcCECF6pl60q0OQKc3PM38bxJATBAO5g52FUBkEPuZAWYYQCrLLsnNPBtABanLQIb3HUAbmppfrUkgQEdjQm3NhiFA/6AVY9yxIkAbKXL6pckjQHY/IsoJzSRA4HSpb/y6JUBV5eSiiJImQDe24jLQUidARTLs6gz7J0DXadZekYooQMO6xp3JAClAvPiyyjtdKUDFAgCaiJ8pQAVIvbNrxylAQfkX+rvUKUA=\",\"dtype\":\"float64\",\"shape\":[100]},{\"__ndarray__\":\"ptbPyXX4HkCw88lff+geQK+EFZasuB5ACQXUuC5pHkAPFxq5V/odQAbjd9iZbB1A7QEyM4fAHEB7XKQp0fYbQLs/aqlHEBtA+yEIV9gNGkBwCfSYjfAYQAgZ+YSNuRdAr1YRsRhqFkAfKe7oiAMVQFA0hMlPhxNALQUKRPX2EUAsTPIJFlQQQLtABMfDQA1A4qJz5TO7CUBhL7bIHRsGQLjB0yE+ZAJACfJVPtI0/T9IxRn0DIP1P8n9zcA1dus/NYPLaQWU1z9Fcc32unK/v5fm2RakouO/TKxsnlmh8b/laO67NF/5v6fFpzl0gQDAG0nYZEpCBMDEXglsPu4HwAWGpmKHgQvAqtbPyXX4DsCusHauuycRwE7VEGCNwRLAe+BnhglIFMA9NEacnbkVwM1IfKnMFBfA29aWyzBYGMCpH8mmfIIZwPcJj718khrAL9qkrRiHG8AoyQ1RVF8cwFmK/8FQGh3AMdOmQE23HcD7Cdj5pzUewABM363elB7AntbDNo/UHsCKbHTtd/QewIpsdO139B7AntbDNo/UHsAATN+t3pQewPsJ2PmnNR7AMdOmQE23HcBaiv/BUBodwCjJDVFUXxzAMNqkrRiHG8D3CY+9fJIawKofyaZ8ghnA2taWyzBYGMDOSHypzBQXwDw0RpyduRXAfeBnhglIFMBM1RBgjcESwLCwdq67JxHAn9bPyXX4DsAChqZih4ELwMReCWw+7gfAH0nYZEpCBMCgxac5dIEAwN5o7rs0X/m/TKxsnlmh8b+p5tkWpKLjv1twzfa6cr+/UYPLaQWU1z+4/c3ANXbrPzjFGfQMg/U/EPJVPtI0/T+4wdMhPmQCQF0vtsgdGwZA6aJz5TO7CUC+QATHw0ANQCxM8gkWVBBAKwUKRPX2EUBTNITJT4cTQCAp7uiIAxVAr1YRsRhqFkAGGfmEjbkXQHEJ9JiN8BhA+yEIV9gNGkC7P2qpRxAbQHpcpCnR9htA7gEyM4fAHEAG43fYmWwdQA8XGrlX+h1ACQXUuC5pHkCvhBWWrLgeQLDzyV9/6B5AptbPyXX4HkA=\",\"dtype\":\"float64\",\"shape\":[100]}]],[[{\"__ndarray__\":\"YYyGUVqLNUC3m1ulP4A1QNmcJBP7XjVAWW7y5a4nNUCKU0MelNo0QH6yQDf6dzRAiMjQ1EYANEApytBa9XMzQMdu422W0zJAZwVXXs8fMkCxxLx9WVkxQJL/4F8BgTBADlPSD0wvL0ATGeIEcDwtQHFSKNtwKytA57jF32/+KED/AKk+q7cmQFOCsLJ7WSRAVGJrGlLmIUC9LPHnacEeQP9wN4V7lhlA2khtwSxRFEDjH6wD2e0NQGe94YR+GgNATj3Ol+Vm8D/BsuapaODVvxVFTqt2Ufu/XGRTFFWHCMAv4ev5UqYRwApbldPJ9hbAgWfFsZQvHMAaDu/KqKUgwM7pPTpeIiPAZIyGUVqLJcCfTXkQId4nwJorWltNGCrA8CgCc5M3LMCS+btSwzkuwDK6xXhlDjDA/ltGMlzvMMDY5Rvw3b4xwP3TO8sUfDLAPOnTtz0mM8Bd/FhOqbwzwI6DVoC8PjTAvntEOPGrNMDJ6L7j1gM1wGd0kOcSRjXAno0Y/WByNcCpwax4k4g1wKnBrHiTiDXAno0Y/WByNcBndJDnEkY1wMnovuPWAzXAvntEOPGrNMCOg1aAvD40wF38WE6pvDPAPOnTtz0mM8D80zvLFHwywNnlG/DdvjHA/VtGMlzvMMAyusV4ZQ4wwJD5u1LDOS7A8ygCc5M3LMCXK1pbTRgqwKJNeRAh3ifAXIyGUVqLJcDM6T06XiIjwBoO78qopSDAhmfFsZQvHMABW5XTyfYWwCvh6/lSphHAXGRTFFWHCMAuRU6rdlH7vx6y5qlo4NW/Yj3Ol+Vm8D9bveGEfhoDQM4frAPZ7Q1A3khtwSxRFED/cDeFe5YZQLgs8edpwR5AWWJrGlLmIUBVgrCye1kkQP8AqT6rtyZA5bjF32/+KEB1UijbcCsrQBUZ4gRwPC1ADlPSD0wvL0CR/+BfAYEwQLLEvH1ZWTFAZwVXXs8fMkDHbuNtltMyQCjK0Fr1czNAicjQ1EYANEB+skA3+nc0QIpTQx6U2jRAWW7y5a4nNUDZnCQT+141QLebW6U/gDVAYYyGUVqLNUA=\",\"dtype\":\"float64\",\"shape\":[100]},{\"__ndarray__\":\"QfkX+rvUKUAFSL2za8cpQMUCAJqInylAu/iyyjtdKUDDusadyQApQNdp1l6RiihARDLs6gz7J0A3tuIy0FInQFXl5KKIkiZA4HSpb/y6JUB1PyLKCc0kQBwpcvqlySNA/6AVY9yxIkBGY0JtzYYhQBmaml+tSSBACKnLQIb3HUAqyy7JzTwbQGIQ+5kBZhhARxAO5g52FUCqNzzN/G8SQIXqmXrSrQ5A5AfqdgtcCECTZD0zKPEBQJFhk2uM5/Y/D/izVViq4z/WkCC7tjrKv1JsHqR4YPC/OgUtwLho/b/FC6YLVCkFwBX2l2p7iAvAbYWYh6DlEMChv7BmmPUTwO+b7jD98BbARPkX+rvUGcAb9Is22p0cwOxFT814SR/ABLbmhmvqIMA/vSDDqh4iwObm7Fs8QCPAnpHm0vVNJMCu6F4ewUYlwBNj+MedKSbAYbQE9aH1JsCmq5RX+6knwECCQQfwRSjA+CLQQN/IKMDn3egLQjIpwO21OMargSnAp9xsk8q2KcDG7ZSxZ9EpwMbtlLFn0SnAp9xsk8q2KcDttTjGq4EpwOfd6AtCMinA+CLQQN/IKMBBgkEH8EUowKarlFf7qSfAYrQE9aH1JsASY/jHnSkmwK7oXh7BRiXAnpHm0vVNJMDn5uxbPEAjwD69IMOqHiLABrbmhmvqIMDpRU/NeEkfwB70izbanRzAO/kX+rvUGcDsm+4w/fAWwKG/sGaY9RPAcIWYh6DlEMAJ9pdqe4gLwL8LpgtUKQXAOgUtwLho/b9hbB6keGDwvxKQILu2Osq/J/izVViq4z+DYZNrjOf2P4ZkPTMo8QFA6QfqdgtcCECF6pl60q0OQKc3PM38bxJATBAO5g52FUBkEPuZAWYYQCrLLsnNPBtABanLQIb3HUAbmppfrUkgQEdjQm3NhiFA/6AVY9yxIkAbKXL6pckjQHY/IsoJzSRA4HSpb/y6JUBV5eSiiJImQDe24jLQUidARTLs6gz7J0DXadZekYooQMO6xp3JAClAvPiyyjtdKUDFAgCaiJ8pQAVIvbNrxylAQfkX+rvUKUA=\",\"dtype\":\"float64\",\"shape\":[100]}]],[[{\"__ndarray__\":\"RsuB3BT4QUBbLfjt0e5BQFdTXa4S00FAZebft/OkQUDvW1+VpGRBQNH1aZFnEkFAnCTncZGuQEC4vLQgiTlAQFYlIoOOZz9A/LJ+a6s7PkAp6MwbnvA8QD14edW7hztAAPhJmngCOkAZ1eOsZWI4QNWbK/MvqTZAxusmPJ7YNECb2Shrj/IyQBAFLIr4+DBA3n+uisXbLUBgWYKj0qYpQCtAOYNuVyVACXYVkAryIEDvNIK7XfYYQD9m5AXW3Q9AC6hDnS5c+z/vYITCBT/iv7DIdXDmyAbAaogjYUd1FMAW8L/WBHEdwCY773w0JyPAb0cLOiiCJ8CHrZxR4MQrwKlsZm346i/ASMuB3BT4McBhJD2lJ+gzwOxP7DO1wzXAEim6UtOIN8BMGkfsrjU5wJzvI+2NyDrAH2eFC9E/PMBawFpz9Zk9wFACDlWW1T7Afe1SVW7xP8B4ukRuLHZAwLwCLaKp4kDAglkq8b49QcCXOkB3DodBwEJkdqJMvkHA2xW/gEDjQcBWb6r6w/VBwFZvqvrD9UHA2xW/gEDjQcBCZHaiTL5BwJc6QHcOh0HAglkq8b49QcC8Ai2iqeJAwHi6RG4sdkDAfu1SVW7xP8BPAg5VltU+wFvAWnP1mT3AHmeFC9E/PMCe7yPtjcg6wEsaR+yuNTnAFCm6UtOIN8DqT+wztcM1wGMkPaUn6DPAQsuB3BT4McCmbGZt+OovwIetnFHgxCvAdEcLOiiCJ8AeO+98NCcjwA7wv9YEcR3AaogjYUd1FMDFyHVw5sgGwGdghMIFP+K/K6hDnS5c+z8sZuQF1t0PQN00grtd9hhADXYVkAryIEArQDmDblclQFxZgqPSpilA5X+uisXbLUASBSyK+PgwQJvZKGuP8jJAxOsmPJ7YNEDYmyvzL6k2QBrV46xlYjhAAPhJmngCOkA6eHnVu4c7QCrozBue8DxA/LJ+a6s7PkBWJSKDjmc/QLe8tCCJOUBAnCTncZGuQEDR9WmRZxJBQO9bX5WkZEFAZebft/OkQUBXU12uEtNBQFst+O3R7kFARsuB3BT4QUA=\",\"dtype\":\"float64\",\"shape\":[100]},{\"__ndarray__\":\"YYyGUVqLNUC3m1ulP4A1QNmcJBP7XjVAWW7y5a4nNUCKU0MelNo0QH6yQDf6dzRAiMjQ1EYANEApytBa9XMzQMdu422W0zJAZwVXXs8fMkCxxLx9WVkxQJL/4F8BgTBADlPSD0wvL0ATGeIEcDwtQHFSKNtwKytA57jF32/+KED/AKk+q7cmQFOCsLJ7WSRAVGJrGlLmIUC9LPHnacEeQP9wN4V7lhlA2khtwSxRFEDjH6wD2e0NQGe94YR+GgNATj3Ol+Vm8D/BsuapaODVvxVFTqt2Ufu/XGRTFFWHCMAv4ev5UqYRwApbldPJ9hbAgWfFsZQvHMAaDu/KqKUgwM7pPTpeIiPAZIyGUVqLJcCfTXkQId4nwJorWltNGCrA8CgCc5M3LMCS+btSwzkuwDK6xXhlDjDA/ltGMlzvMMDY5Rvw3b4xwP3TO8sUfDLAPOnTtz0mM8Bd/FhOqbwzwI6DVoC8PjTAvntEOPGrNMDJ6L7j1gM1wGd0kOcSRjXAno0Y/WByNcCpwax4k4g1wKnBrHiTiDXAno0Y/WByNcBndJDnEkY1wMnovuPWAzXAvntEOPGrNMCOg1aAvD40wF38WE6pvDPAPOnTtz0mM8D80zvLFHwywNnlG/DdvjHA/VtGMlzvMMAyusV4ZQ4wwJD5u1LDOS7A8ygCc5M3LMCXK1pbTRgqwKJNeRAh3ifAXIyGUVqLJcDM6T06XiIjwBoO78qopSDAhmfFsZQvHMABW5XTyfYWwCvh6/lSphHAXGRTFFWHCMAuRU6rdlH7vx6y5qlo4NW/Yj3Ol+Vm8D9bveGEfhoDQM4frAPZ7Q1A3khtwSxRFED/cDeFe5YZQLgs8edpwR5AWWJrGlLmIUBVgrCye1kkQP8AqT6rtyZA5bjF32/+KEB1UijbcCsrQBUZ4gRwPC1ADlPSD0wvL0CR/+BfAYEwQLLEvH1ZWTFAZwVXXs8fMkDHbuNtltMyQCjK0Fr1czNAicjQ1EYANEB+skA3+nc0QIpTQx6U2jRAWW7y5a4nNUDZnCQT+141QLebW6U/gDVAYYyGUVqLNUA=\",\"dtype\":\"float64\",\"shape\":[100]}]],[[{\"__ndarray__\":\"sFjP/WX5TUAuh/IJ8+lNQKXcNRuqu01AhDW857puTUAZ6MK9dANNQKfH4TFGekxADggOrbzTS0C8gtXagxBLQJSfaPhkMUpAUEwpBUY3SUAm2JTVKCNIQIQYfQkq9kZAzs6i5n+xRUC9v98YeVZEQOEtKll75kJA31XV/AFjQUD0EhbdOJs/QDP6IiXZTzxAXGULMErnOED6HI1xD2U1QH30vNPGzDFAGNsl+UlELECQLg744tEkQNHBvJoLlBpAt2QJB9fRBkA50CkyvG/uv/FympPuABPA5lMxYCcQIcBulvusQI4owP/MavgJ8y/Adkk8EXKbM8A5Mg7/KCk3wK3pxwQAnzrAtFjP/WX5PcBXko4Hc5pAwIrDrpsVJ0LAyBAe3wGhQ8DbNKg/sgZFwAvioga2VkbAFrMB1bKPR8BfNGIIZrBIwFT4nwemt0nAm+KZdWOkSsBfcOxIqnVLwCekgMeiKkzAlEXsZJLCTMD7Ob6C3DxNwF288BEDmU3AjQjbFKfWTcCUhhwBifVNwJSGHAGJ9U3AjQjbFKfWTcBdvPARA5lNwPs5voLcPE3AlEXsZJLCTMAopIDHoipMwF9w7EiqdUvAnOKZdWOkSsBT+J8HprdJwGA0YghmsEjAFbMB1bKPR8AM4qIGtlZGwNo0qD+yBkXAyhAe3wGhQ8CIw66bFSdCwFmSjgdzmkDAqVjP/WX5PcCq6ccEAJ86wDkyDv8oKTfAekk8EXKbM8DxzGr4CfMvwGiW+6xAjijA5lMxYCcQIcACc5qT7gATwFbPKTK8b+6/0mQJB9fRBkDBwbyaC5QaQIEuDvji0SRAHtsl+UlELEB99LzTxswxQPccjXEPZTVAY2ULMErnOEA2+iIl2U88QPQSFt04mz9A3VXV/AFjQUDjLSpZe+ZCQL6/3xh5VkRAzs6i5n+xRUCCGH0JKvZGQCfYlNUoI0hAUEwpBUY3SUCUn2j4ZDFKQLuC1dqDEEtADwgOrbzTS0Cnx+ExRnpMQBnowr10A01AhTW857puTUCl3DUbqrtNQC6H8gnz6U1AsFjP/WX5TUA=\",\"dtype\":\"float64\",\"shape\":[100]},{\"__ndarray__\":\"RsuB3BT4QUBbLfjt0e5BQFdTXa4S00FAZebft/OkQUDvW1+VpGRBQNH1aZFnEkFAnCTncZGuQEC4vLQgiTlAQFYlIoOOZz9A/LJ+a6s7PkAp6MwbnvA8QD14edW7hztAAPhJmngCOkAZ1eOsZWI4QNWbK/MvqTZAxusmPJ7YNECb2Shrj/IyQBAFLIr4+DBA3n+uisXbLUBgWYKj0qYpQCtAOYNuVyVACXYVkAryIEDvNIK7XfYYQD9m5AXW3Q9AC6hDnS5c+z/vYITCBT/iv7DIdXDmyAbAaogjYUd1FMAW8L/WBHEdwCY773w0JyPAb0cLOiiCJ8CHrZxR4MQrwKlsZm346i/ASMuB3BT4McBhJD2lJ+gzwOxP7DO1wzXAEim6UtOIN8BMGkfsrjU5wJzvI+2NyDrAH2eFC9E/PMBawFpz9Zk9wFACDlWW1T7Afe1SVW7xP8B4ukRuLHZAwLwCLaKp4kDAglkq8b49QcCXOkB3DodBwEJkdqJMvkHA2xW/gEDjQcBWb6r6w/VBwFZvqvrD9UHA2xW/gEDjQcBCZHaiTL5BwJc6QHcOh0HAglkq8b49QcC8Ai2iqeJAwHi6RG4sdkDAfu1SVW7xP8BPAg5VltU+wFvAWnP1mT3AHmeFC9E/PMCe7yPtjcg6wEsaR+yuNTnAFCm6UtOIN8DqT+wztcM1wGMkPaUn6DPAQsuB3BT4McCmbGZt+OovwIetnFHgxCvAdEcLOiiCJ8AeO+98NCcjwA7wv9YEcR3AaogjYUd1FMDFyHVw5sgGwGdghMIFP+K/K6hDnS5c+z8sZuQF1t0PQN00grtd9hhADXYVkAryIEArQDmDblclQFxZgqPSpilA5X+uisXbLUASBSyK+PgwQJvZKGuP8jJAxOsmPJ7YNEDYmyvzL6k2QBrV46xlYjhAAPhJmngCOkA6eHnVu4c7QCrozBue8DxA/LJ+a6s7PkBWJSKDjmc/QLe8tCCJOUBAnCTncZGuQEDR9WmRZxJBQO9bX5WkZEFAZebft/OkQUBXU12uEtNBQFst+O3R7kFARsuB3BT4QUA=\",\"dtype\":\"float64\",\"shape\":[100]}]],[[{\"__ndarray__\":\"AAAAAAAAWUAMQ+heHfNYQKFz7cOCzFhAJa5D+leMWEBTkwEn3zJYQMRJ8YR0wFdAkPp9BY41V0DKyR/XupJWQBKew9Gi2FVAEdzGyQUIVUBTbznKuiFUQK32MTevJlNAFZUY2eUXUkD1puTRdfZQQBSuwPoSh09ANVs1e7oATUBQRYppfFxKQKvFmdsRnUdAnoYj6k/FREBEgVrFJNhBQD4ZK18psT1AvUZ/wm2TN0BF8niyZF0xQHt4KHTqKiZAWpnJX2MIE0DgB7DjsmL5vyO6qxEysx/Am9tXDIV2LMCuRdb6DHs0wOboD8m6pTrA+OFcTXhaQMDDDDe1N1FDwHVd53kNNEbAAwAAAAAAScCjKOlDLbJLwILao9LNR07AKT2V0xtfUMAbmb10cIlRwFm4O0axoVLAHv/yY72mU8ApDgW2h5dUwPTdNAYYc1XAp3XD/4s4VsBifr4YGOdWwD0z0GMIflfAxGa4ScH8V8BEba8pwGJYwKuXDeCbr1jA6XCsMgXjWMB9BZIix/xYwH0FkiLH/FjA6XCsMgXjWMCrlw3gm69YwERtrynAYljAxGa4ScH8V8A+M9BjCH5XwGJ+vhgY51bAqHXD/4s4VsDz3TQGGHNVwCkOBbaHl1TAHf/yY72mU8BZuDtGsaFSwBqZvXRwiVHAKj2V0xtfUMB/2qPSzUdOwKco6UMtskvA+///////SMByXed5DTRGwMMMN7U3UUPA++FcTXhaQMDb6A/JuqU6wKhF1voMezTAm9tXDIV2LMA/uqsRMrMfwCMHsOOyYvm/cJnJX2MIE0BteCh06iomQDnyeLJkXTFAw0Z/wm2TN0A+GStfKbE9QEGBWsUk2EFApIYj6k/FRECuxZnbEZ1HQFBFiml8XEpAMls1e7oATUAZrsD6EodPQPam5NF19lBAFZUY2eUXUkCr9jE3ryZTQFRvOcq6IVRAEdzGyQUIVUASnsPRothVQMrJH9e6klZAkfp9BY41V0DESfGEdMBXQFOTASffMlhAJq5D+leMWEChc+3DgsxYQAxD6F4d81hAAAAAAAAAWUA=\",\"dtype\":\"float64\",\"shape\":[100]},{\"__ndarray__\":\"sFjP/WX5TUAuh/IJ8+lNQKXcNRuqu01AhDW857puTUAZ6MK9dANNQKfH4TFGekxADggOrbzTS0C8gtXagxBLQJSfaPhkMUpAUEwpBUY3SUAm2JTVKCNIQIQYfQkq9kZAzs6i5n+xRUC9v98YeVZEQOEtKll75kJA31XV/AFjQUD0EhbdOJs/QDP6IiXZTzxAXGULMErnOED6HI1xD2U1QH30vNPGzDFAGNsl+UlELECQLg744tEkQNHBvJoLlBpAt2QJB9fRBkA50CkyvG/uv/FympPuABPA5lMxYCcQIcBulvusQI4owP/MavgJ8y/Adkk8EXKbM8A5Mg7/KCk3wK3pxwQAnzrAtFjP/WX5PcBXko4Hc5pAwIrDrpsVJ0LAyBAe3wGhQ8DbNKg/sgZFwAvioga2VkbAFrMB1bKPR8BfNGIIZrBIwFT4nwemt0nAm+KZdWOkSsBfcOxIqnVLwCekgMeiKkzAlEXsZJLCTMD7Ob6C3DxNwF288BEDmU3AjQjbFKfWTcCUhhwBifVNwJSGHAGJ9U3AjQjbFKfWTcBdvPARA5lNwPs5voLcPE3AlEXsZJLCTMAopIDHoipMwF9w7EiqdUvAnOKZdWOkSsBT+J8HprdJwGA0YghmsEjAFbMB1bKPR8AM4qIGtlZGwNo0qD+yBkXAyhAe3wGhQ8CIw66bFSdCwFmSjgdzmkDAqVjP/WX5PcCq6ccEAJ86wDkyDv8oKTfAekk8EXKbM8DxzGr4CfMvwGiW+6xAjijA5lMxYCcQIcACc5qT7gATwFbPKTK8b+6/0mQJB9fRBkDBwbyaC5QaQIEuDvji0SRAHtsl+UlELEB99LzTxswxQPccjXEPZTVAY2ULMErnOEA2+iIl2U88QPQSFt04mz9A3VXV/AFjQUDjLSpZe+ZCQL6/3xh5VkRAzs6i5n+xRUCCGH0JKvZGQCfYlNUoI0hAUEwpBUY3SUCUn2j4ZDFKQLuC1dqDEEtADwgOrbzTS0Cnx+ExRnpMQBnowr10A01AhTW857puTUCl3DUbqrtNQC6H8gnz6U1AsFjP/WX5TUA=\",\"dtype\":\"float64\",\"shape\":[100]}]]]},\"selected\":{\"id\":\"1797\",\"type\":\"Selection\"},\"selection_policy\":{\"id\":\"1796\",\"type\":\"UnionRenderers\"}},\"id\":\"1732\",\"type\":\"ColumnDataSource\"},{\"attributes\":{\"data_source\":{\"id\":\"1732\",\"type\":\"ColumnDataSource\"},\"glyph\":{\"id\":\"1734\",\"type\":\"MultiPolygons\"},\"hover_glyph\":null,\"muted_glyph\":null,\"nonselection_glyph\":{\"id\":\"1735\",\"type\":\"MultiPolygons\"},\"selection_glyph\":null,\"view\":{\"id\":\"1737\",\"type\":\"CDSView\"}},\"id\":\"1736\",\"type\":\"GlyphRenderer\"},{\"attributes\":{\"plot\":null,\"text\":\"\"},\"id\":\"1791\",\"type\":\"Title\"},{\"attributes\":{\"callback\":null},\"id\":\"1701\",\"type\":\"DataRange1d\"},{\"attributes\":{},\"id\":\"1796\",\"type\":\"UnionRenderers\"}],\"root_ids\":[\"1700\"]},\"title\":\"Bokeh Application\",\"version\":\"1.0.4\"}};\n",
       "  var render_items = [{\"docid\":\"c6cd6daf-b0f7-47e4-ba52-bd42a94166e3\",\"roots\":{\"1700\":\"42424982-ecf5-4a9f-8a4c-bb50bdf3770a\"}}];\n",
       "  root.Bokeh.embed.embed_items_notebook(docs_json, render_items);\n",
       "\n",
       "  }\n",
       "  if (root.Bokeh !== undefined) {\n",
       "    embed_document(root);\n",
       "  } else {\n",
       "    var attempts = 0;\n",
       "    var timer = setInterval(function(root) {\n",
       "      if (root.Bokeh !== undefined) {\n",
       "        embed_document(root);\n",
       "        clearInterval(timer);\n",
       "      }\n",
       "      attempts++;\n",
       "      if (attempts > 100) {\n",
       "        console.log(\"Bokeh: ERROR: Unable to run BokehJS code because BokehJS library is missing\");\n",
       "        clearInterval(timer);\n",
       "      }\n",
       "    }, 10, root)\n",
       "  }\n",
       "})(window);"
      ],
      "application/vnd.bokehjs_exec.v0+json": ""
     },
     "metadata": {
      "application/vnd.bokehjs_exec.v0+json": {
       "id": "1700"
      }
     },
     "output_type": "display_data"
    }
   ],
   "source": [
    "p = figure(plot_width=300, plot_height=300, \n",
    "           tools='hover,tap,wheel_zoom,pan,reset,help',\n",
    "           tooltips=[(\"Outer Radius\", \"@outer_radius\")])\n",
    "\n",
    "p.multi_polygons('xs', 'ys', fill_color='color', source=source)\n",
    "show(p)"
   ]
  }
 ],
 "metadata": {
  "kernelspec": {
   "display_name": "Python 3",
   "language": "python",
   "name": "python3"
  },
  "language_info": {
   "codemirror_mode": {
    "name": "ipython",
    "version": 3
   },
   "file_extension": ".py",
   "mimetype": "text/x-python",
   "name": "python",
   "nbconvert_exporter": "python",
   "pygments_lexer": "ipython3",
   "version": "3.7.3"
  }
 },
 "nbformat": 4,
 "nbformat_minor": 2
}
